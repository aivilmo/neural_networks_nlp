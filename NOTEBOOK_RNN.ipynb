{
  "cells": [
    {
      "cell_type": "markdown",
      "metadata": {
        "id": "0HAxXN986Ch1"
      },
      "source": [
        "# Práctica 3: Redes recurrentes para el Procesamiento del Lenguaje Natural - Aitana Villaplana Moreno\n",
        "En esta práctica sen va a desarrollar diferentes sistemas para realizar una tarea de análisis de sentimientos, se desarrollarán con Redes Neuronales Recurrentes, además de trabajar con los distintos tipo de parámetros de los mismos.\n",
        "\n",
        "La práctica consistirá en probar variaciones de distintos modelos de RNN, variando los parámetros y el número y tipo de capas. También se realizará un análisis de los resultados, y la variación entre los distintos modelos."
      ]
    },
    {
      "cell_type": "markdown",
      "metadata": {
        "id": "XdjK-kRX6cK0"
      },
      "source": [
        "##1. Importación de librerías, carga y visualización de los datos\n",
        "En primer lugar se importarán las librerías necesarias para el desarrollo de la práctica. En segundo lugar se cargarán los dos ficheros del conjunto de datos, subidos la carpeta del drive, el conjunto de entrenamiento (training) y el conjunto de validación (test)."
      ]
    },
    {
      "cell_type": "code",
      "execution_count": 1,
      "metadata": {
        "colab": {
          "base_uri": "https://localhost:8080/"
        },
        "id": "dqU_YbL36i9S",
        "outputId": "91440d23-6a4c-46c3-febb-79abe8c9c1ae"
      },
      "outputs": [
        {
          "output_type": "stream",
          "name": "stdout",
          "text": [
            "[nltk_data] Downloading package stopwords to /root/nltk_data...\n",
            "[nltk_data]   Unzipping corpora/stopwords.zip.\n",
            "[nltk_data] Downloading package wordnet to /root/nltk_data...\n",
            "[nltk_data]   Unzipping corpora/wordnet.zip.\n"
          ]
        }
      ],
      "source": [
        "# Procesado de datos\n",
        "import pandas as pd\n",
        "import numpy as np\n",
        "\n",
        "import re\n",
        "import nltk\n",
        "from nltk.stem import WordNetLemmatizer, PorterStemmer\n",
        "from nltk.corpus import stopwords\n",
        "nltk.download('stopwords')\n",
        "nltk.download('wordnet')\n",
        "\n",
        "# Representación de datos\n",
        "from sklearn import preprocessing\n",
        "\n",
        "from keras.preprocessing.sequence import pad_sequences\n",
        "from keras.preprocessing.text import Tokenizer\n",
        "\n",
        "# Visualización\n",
        "import matplotlib.pyplot as plt\n",
        "\n",
        "# Clasificación\n",
        "from keras.utils.np_utils import to_categorical\n",
        "from keras.layers import Dense, Embedding, Dropout, SimpleRNN, GRU, LSTM, Bidirectional\n",
        "from keras.models import Sequential\n",
        "from keras.callbacks import EarlyStopping\n",
        "\n",
        "# Utiles\n",
        "from sklearn.metrics import precision_score, recall_score, f1_score"
      ]
    },
    {
      "cell_type": "markdown",
      "metadata": {
        "id": "z95Q9nUE6xKJ"
      },
      "source": [
        "Enlazamos el notebook en Colab con nuestro almacenamiento en Google Drive."
      ]
    },
    {
      "cell_type": "code",
      "execution_count": 2,
      "metadata": {
        "colab": {
          "base_uri": "https://localhost:8080/"
        },
        "id": "tksYNTyA6zAq",
        "outputId": "d9552ac3-c3d8-48a9-f0d5-a0d4556fed20"
      },
      "outputs": [
        {
          "output_type": "stream",
          "name": "stdout",
          "text": [
            "Mounted at /content/drive\n"
          ]
        }
      ],
      "source": [
        "from google.colab import drive\n",
        "drive.mount('/content/drive')"
      ]
    },
    {
      "cell_type": "markdown",
      "metadata": {
        "id": "4pp97sdZ6200"
      },
      "source": [
        "Se carga el dataset en un objeto de la clase pandas."
      ]
    },
    {
      "cell_type": "code",
      "execution_count": 3,
      "metadata": {
        "id": "fiMhtYqp65uS"
      },
      "outputs": [],
      "source": [
        "training_set = pd.read_csv(\"/content/drive/My Drive/train_reviews.csv\", quotechar='\"', header=0, sep=\",\")\n",
        "test_set = pd.read_csv(\"/content/drive/My Drive/test_reviews.csv\", quotechar='\"', header=0, sep=\",\")\n",
        "\n",
        "dataset = pd.concat([training_set,test_set])"
      ]
    },
    {
      "cell_type": "markdown",
      "metadata": {
        "id": "q72X1wm867z-"
      },
      "source": [
        "Debido a que se trata del mismo conjunto de datos que en la práctica pasada, se va a omitir el análisis y representación de los datos, realizados en la Práctica 1."
      ]
    },
    {
      "cell_type": "markdown",
      "metadata": {
        "id": "CCvcFOto7DNK"
      },
      "source": [
        "## 2. Pre-procesado de datos y representación\n",
        "Después de haber analizado los datos, es necesario realizar un pre-procesado de éstos, se aplicarán una serie de técnicas:\n",
        "\n",
        "1. Eliminación de carácteres no alfanuméricos \n",
        "2. Eliminación de *stopwords*\n",
        "3. Lematización\n",
        "4. *Stemming*\n",
        "\n",
        "Posteriormente, dichos datos se introducirán en el modelo y se transformarán en vectores mediante una capa de Emebedding."
      ]
    },
    {
      "cell_type": "markdown",
      "metadata": {
        "id": "1J_JamJx7FGj"
      },
      "source": [
        "### 2.1 Pre-procesamiento\n",
        "En este apartado se tokenizará el texto, llevando a cabo las técnicas descritas anteriormente, como eliminación de *stopwords*, lematización y *stemming*. Todos estos procesos se realizan en la función `process_text`, y posteriormente se aplicará a las reviews.\n",
        "\n"
      ]
    },
    {
      "cell_type": "code",
      "execution_count": 4,
      "metadata": {
        "colab": {
          "base_uri": "https://localhost:8080/"
        },
        "id": "9Q_kcHQL7HQZ",
        "outputId": "f35f85fb-1fb7-4b3b-a104-e41ebf0fe842"
      },
      "outputs": [
        {
          "output_type": "execute_result",
          "data": {
            "text/plain": [
              "0       [peopl, tri, make, believ, premis, rubbishi, s...\n",
              "1       [want, see, cut, sinc, day, heard, sometim, la...\n",
              "2       [movi, terribl, suspens, spent, wait, point, m...\n",
              "3       [hope, keep, act, direct, sure, task, could, e...\n",
              "4       [fell, love, silent, action, drama, kurt, russ...\n",
              "                              ...                        \n",
              "1995    [order, hold, public, attent, three, hour, tre...\n",
              "1996    [skeptic, sacrif, preciou, time, watch, film, ...\n",
              "1997    [lol, deliri, funni, tear, eddi, murphi, impre...\n",
              "1998    [kinda, interest, movi, trashi, cannib, flick,...\n",
              "1999    [zodiac, killer, 1, 10, worst, act, ever, real...\n",
              "Name: review_processed, Length: 10000, dtype: object"
            ]
          },
          "metadata": {},
          "execution_count": 4
        }
      ],
      "source": [
        "def process_text(text_serie):\n",
        "  #Eliminación de carácteres no alfanuméricos y carácter <br \\/>\n",
        "  alphanumeric_text = re.sub(\"<br \\/>\", \"\", text_serie) \n",
        "  alphanumeric_text = re.sub(\"[^0-9a-zA-Z]+\", \" \", alphanumeric_text) \n",
        "\n",
        "  #Conversión texto a minúsculas y tokenización a lista de palabras\n",
        "  tokens = alphanumeric_text.lower().split()\n",
        "  \n",
        "  #Eliminación las stopwords\n",
        "  stop_words = set(stopwords.words(\"english\")) \n",
        "  tokens_without_stopwords = [token for token in tokens if token not in stop_words]\n",
        "  \n",
        "  #Lematización\n",
        "  wordnet_lemmatizer = WordNetLemmatizer()\n",
        "  tokens_lemmas = [wordnet_lemmatizer.lemmatize(token) for token in tokens_without_stopwords]\n",
        "  \n",
        "  #Stemming\n",
        "  stemmer = PorterStemmer()\n",
        "  tokens_stemmed = [stemmer.stem(token) for token in tokens_lemmas]\n",
        "  \n",
        "  return tokens_stemmed\n",
        "\n",
        "dataset[\"review_processed\"] = dataset[\"review\"].apply(process_text)\n",
        "dataset[\"review_processed\"]"
      ]
    },
    {
      "cell_type": "markdown",
      "metadata": {
        "id": "rx1xB8lA7Keh"
      },
      "source": [
        "### 2.2 Representación\n",
        "Una vez se ha obtenido y procesado el conjunto de tokens de cada review, el siguiente paso es representar con valores tanto las palabras como las etiquetas, para introducir en el modelo que se entrene en los apartados siguientes.\n",
        "\n",
        "Para el caso de las etiquetas, debido a que se trata de una clasificación binaria (entre 2 clases), es razonable utilizar una representación de 1s y 0s.\n",
        "Como en las dos prácticas anteriores.\n",
        "\n",
        "Basándonos en los resultados de las prácticas anteriores, no se va a realizar ninguna representación de los datos de entrada, si no que se pasarán las reviews tokenizadas directamente al modelo, que contará con una capa de entrada de Embedding.\n"
      ]
    },
    {
      "cell_type": "code",
      "execution_count": 5,
      "metadata": {
        "id": "l-jAaZ_Z7NeS"
      },
      "outputs": [],
      "source": [
        "# Se vuelve a separar los datos en entrenamiento y test\n",
        "X_train = dataset[0:len(training_set)][[\"id\", \"review_processed\"]]\n",
        "y_train = dataset[0:len(training_set)][[\"sentiment\"]]\n",
        "X_test = dataset[len(training_set):len(dataset)][[\"id\", \"review_processed\"]]\n",
        "y_test = dataset[len(training_set):len(dataset)][[\"sentiment\"]]"
      ]
    },
    {
      "cell_type": "code",
      "execution_count": 6,
      "metadata": {
        "id": "FzKaJGGZ7O7O"
      },
      "outputs": [],
      "source": [
        "# Se transforman las etiquetas a valores numéricos, para esre caso, clases binarias 0 (negativo) y 1 (positivo)\n",
        "le = preprocessing.LabelEncoder()\n",
        "binary_y_train = le.fit_transform(y_train[\"sentiment\"].values)\n",
        "binary_y_test = le.fit_transform(y_test[\"sentiment\"].values)"
      ]
    },
    {
      "cell_type": "code",
      "execution_count": 7,
      "metadata": {
        "colab": {
          "base_uri": "https://localhost:8080/"
        },
        "id": "KCymRgM5fCQF",
        "outputId": "5562812d-7198-49b3-fe84-087b12061e30"
      },
      "outputs": [
        {
          "output_type": "stream",
          "name": "stdout",
          "text": [
            "Vector de etiquetas:  [0 1 0 ... 0 0 0]\n",
            "Matriz de etiquetas: \n",
            " [[1. 0.]\n",
            " [0. 1.]\n",
            " [1. 0.]\n",
            " ...\n",
            " [1. 0.]\n",
            " [1. 0.]\n",
            " [1. 0.]]\n"
          ]
        }
      ],
      "source": [
        "# Vector de etiquetas -> matriz de etiquetas\n",
        "tensor_y_train = to_categorical(binary_y_train, num_classes=2)\n",
        "tensor_y_test = to_categorical(binary_y_test, num_classes=2)\n",
        "print(\"Vector de etiquetas: \", binary_y_train)\n",
        "print(\"Matriz de etiquetas: \\n\", tensor_y_train)"
      ]
    },
    {
      "cell_type": "markdown",
      "metadata": {
        "id": "1d0VLURqtCk3"
      },
      "source": [
        "## 3. Redes Neuronales Convolucionales (RNN)\n",
        "\n",
        "Una vez realizado el pre-procesamiento, se puede empezar a pensar en un modelo apropiado para realizar la tarea de Clasificación. Las Redes Neuronales Recurrentes son arquitecturas basadas en secuencias de datos, en las cuales importa el orden de dicha secuencia, como por ejemplo el texto. Estas redes, tienen en cuenta tanto la entrada, como las entradas anteriores del modelo, lo que facilita mucho tareas de reconocimiento de texto, ya que se tiene en cuenta el contexto.\n",
        "\n",
        "Las redes recurrentes tienen varias arquitecturas según la tarea que se vaya a desempeñar, en nuestro caso, al ser una tarea de clasificación de análisis de sentimiento, con un único valor de salida, la arquitectura será de varias entradas y una salida (*many-to-one*).\n",
        "\n",
        "Las distintas capas que se van a probar son los siguientes:\n",
        "*   Capa simple de RNN\n",
        "*   Capa de GRU\n",
        "*   Capa de LSTM\n",
        "*   Capas apiladas de los 3 modelos anteriores\n",
        "*   Capa Bidirectional de los 3 modelos anteriores\n",
        "*   Afinado del modelo\n"
      ]
    },
    {
      "cell_type": "markdown",
      "metadata": {
        "id": "4ECahM1sa4jz"
      },
      "source": [
        "La función `plot_loss_accuracy_training` muestra de forma gráfica el desarrollo de los valores de *accucary* y pérdida a lo largo de todas las *epoch* de entrenamiento."
      ]
    },
    {
      "cell_type": "code",
      "execution_count": 8,
      "metadata": {
        "id": "6sJzPlodi9Si"
      },
      "outputs": [],
      "source": [
        "def plot_loss_accuracy_training(history):\n",
        "  print(history.history.keys())\n",
        "  \n",
        "  fig = plt.figure(figsize = (6, 6))\n",
        "  plt.xticks(fontsize=15)\n",
        "  plt.yticks(fontsize=15)\n",
        "\n",
        "  # Gráfica de la accuracy\n",
        "  plt.plot(history.history['acc'])\n",
        "  plt.plot(history.history['val_acc'])\n",
        "  plt.title('model accuracy', fontsize=20)\n",
        "  plt.ylabel('accuracy')\n",
        "  plt.xlabel('epoch')\n",
        "  plt.legend(['train', 'test'], loc='upper left')\n",
        "  plt.show()\n",
        "\n",
        "  fig = plt.figure(figsize = (6, 6))\n",
        "  plt.xticks(fontsize=15)\n",
        "  plt.yticks(fontsize=15)\n",
        "  \n",
        "  # Gráfica de la pérdida\n",
        "  plt.plot(history.history['loss'])\n",
        "  plt.plot(history.history['val_loss'])\n",
        "  plt.title('model loss', fontsize=20)\n",
        "  plt.ylabel('loss')\n",
        "  plt.xlabel('epoch')\n",
        "  plt.legend(['train', 'test'], loc='upper left')\n",
        "  plt.show()"
      ]
    },
    {
      "cell_type": "markdown",
      "metadata": {
        "id": "oQRPtIWybHf_"
      },
      "source": [
        "La función `evaluate_nn_classifier` evalúa el modelo creado, con las métricas de precisión, *recall*, y *f1score*."
      ]
    },
    {
      "cell_type": "code",
      "execution_count": 9,
      "metadata": {
        "id": "YeVS4AXvm85I"
      },
      "outputs": [],
      "source": [
        "def evaluate_nn_classifier(X, y, model):\n",
        "  yhat = model.predict(X)\n",
        "  yhat = np.argmax(yhat, axis=1)\n",
        "\n",
        "  precision_ = precision_score(y, yhat)\n",
        "  recall_ = recall_score(y, yhat)\n",
        "  f1score_ = f1_score(y, yhat)\n",
        "\n",
        "  print(\"Precision: %0.3f Recall %0.3f F1 score: %0.3f for %s\" % (precision_, recall_, f1score_, \"Neuronal Network\"))"
      ]
    },
    {
      "cell_type": "markdown",
      "metadata": {
        "id": "nFrSYGxQbL4R"
      },
      "source": [
        "Definimos las constantes para todas las RNN que vamos a entrenar."
      ]
    },
    {
      "cell_type": "code",
      "execution_count": 10,
      "metadata": {
        "id": "zBVvmq9AjD-R"
      },
      "outputs": [],
      "source": [
        "# Número de épocas (iteraciones globales)\n",
        "epochs = 40\n",
        "# Tamaño de batch (lote)\n",
        "batch_size = 32\n",
        "#Máxima longitud del documento\n",
        "max_len = 512\n",
        "\n",
        "# Características de los datos\n",
        "emb_dim = 100\n",
        "classes = 2"
      ]
    },
    {
      "cell_type": "markdown",
      "metadata": {
        "id": "C6rBVpZVbUoQ"
      },
      "source": [
        "Debido al tiempo tan largo de entrenamiento cuando el modelo tienen una capa de Embeddings, se han añadido dos condiciones de parada para el modelo (*early stopping*), para la *accuracy* y pérdida del conjunto de validación, con una paciencia de 5 (si la *accuracy* o la pérdida empeoran 5 *epoch* seguidas el modelo deja de entrenar."
      ]
    },
    {
      "cell_type": "code",
      "execution_count": 11,
      "metadata": {
        "id": "TYQ5nBUGjRtS"
      },
      "outputs": [],
      "source": [
        "early_stopping_loss = EarlyStopping(monitor='val_loss', patience=5, restore_best_weights=True)\n",
        "early_stopping_acc = EarlyStopping(monitor='val_acc', patience=5, restore_best_weights=True)"
      ]
    },
    {
      "cell_type": "markdown",
      "metadata": {
        "id": "gOx_QGOwbXcy"
      },
      "source": [
        "Se tokenizan los datos, y se aplica el *padding* para posteriormente pasarlos al modelo."
      ]
    },
    {
      "cell_type": "code",
      "execution_count": 12,
      "metadata": {
        "colab": {
          "base_uri": "https://localhost:8080/"
        },
        "id": "mZlcqIC8fPQg",
        "outputId": "a9bc34d8-568d-48c0-9d87-fb87bf4f9dda"
      },
      "outputs": [
        {
          "output_type": "stream",
          "name": "stdout",
          "text": [
            "(8000, 512)\n"
          ]
        }
      ],
      "source": [
        "tokenizer = Tokenizer()\n",
        "tokenizer.fit_on_texts(X_train['review_processed'])\n",
        "\n",
        "# Se transforman a secuencias numéricas (secuencia de palabras -> secuencia de números)\n",
        "sequences_train = tokenizer.texts_to_sequences(X_train['review_processed'])\n",
        "sequences_test = tokenizer.texts_to_sequences(X_test['review_processed'])\n",
        "\n",
        "# Es necesario que ambas tengan la misma longitud\n",
        "tensor_x_train = pad_sequences(sequences_train, maxlen=max_len)\n",
        "tensor_x_test = pad_sequences(sequences_test, maxlen=max_len)\n",
        "\n",
        "vocab_size = len(tokenizer.word_index) + 1\n",
        "print(tensor_x_train.shape)"
      ]
    },
    {
      "cell_type": "markdown",
      "metadata": {
        "id": "1S39DpN2vqrY"
      },
      "source": [
        "### 3.1 Capa simple de RNN (SimpleRNN)\n",
        "\n",
        "En primer lugar, se probará a realizar el modelo con una única capa simple de RNN, sin apilar. El número de neuronas seleccionado es la dimensión del emedding, para que cada neurona se encargue de una característica.\n",
        "\n",
        "Se utilizará el optimizador RMSProp debido a que se considera uno de los que mejor funciona en RNN."
      ]
    },
    {
      "cell_type": "code",
      "execution_count": null,
      "metadata": {
        "colab": {
          "base_uri": "https://localhost:8080/"
        },
        "id": "qxUASOvohSjR",
        "outputId": "cc3f3a10-fa17-4612-a98a-902a66b2ccb8"
      },
      "outputs": [
        {
          "name": "stdout",
          "output_type": "stream",
          "text": [
            "Model: \"sequential_4\"\n",
            "_________________________________________________________________\n",
            " Layer (type)                Output Shape              Param #   \n",
            "=================================================================\n",
            " embedding_4 (Embedding)     (None, 512, 100)          3218100   \n",
            "                                                                 \n",
            " simple_rnn_4 (SimpleRNN)    (None, 100)               20100     \n",
            "                                                                 \n",
            " dense_4 (Dense)             (None, 2)                 202       \n",
            "                                                                 \n",
            "=================================================================\n",
            "Total params: 3,238,402\n",
            "Trainable params: 3,238,402\n",
            "Non-trainable params: 0\n",
            "_________________________________________________________________\n"
          ]
        }
      ],
      "source": [
        "model = Sequential()\n",
        "model.add(Embedding(input_dim=vocab_size, output_dim=emb_dim, input_length=max_len))\n",
        "model.add(SimpleRNN(units=emb_dim))\n",
        "model.add(Dense(classes, activation='sigmoid'))\n",
        "\n",
        "model.compile(optimizer='rmsprop', loss='binary_crossentropy', metrics=['acc'])\n",
        "model.summary()"
      ]
    },
    {
      "cell_type": "markdown",
      "metadata": {
        "id": "hqm2dBk7w1Ju"
      },
      "source": [
        "En primer lugar, se ejecutará el modelo sin los callbacks, para verificar la evolución completa del modelo de las 40 epoch."
      ]
    },
    {
      "cell_type": "code",
      "execution_count": null,
      "metadata": {
        "colab": {
          "base_uri": "https://localhost:8080/"
        },
        "id": "wpwKsztMiy1R",
        "outputId": "b177b47b-fcdf-4288-959a-c350403b4bea"
      },
      "outputs": [
        {
          "name": "stdout",
          "output_type": "stream",
          "text": [
            "Epoch 1/40\n",
            "200/200 [==============================] - 41s 203ms/step - loss: 0.0404 - acc: 0.9859 - val_loss: 0.6622 - val_acc: 0.7763\n",
            "Epoch 2/40\n",
            "200/200 [==============================] - 37s 187ms/step - loss: 0.0281 - acc: 0.9909 - val_loss: 0.8171 - val_acc: 0.7887\n",
            "Epoch 3/40\n",
            "200/200 [==============================] - 38s 188ms/step - loss: 0.0297 - acc: 0.9912 - val_loss: 0.7669 - val_acc: 0.7975\n",
            "Epoch 4/40\n",
            "200/200 [==============================] - 44s 221ms/step - loss: 0.0779 - acc: 0.9800 - val_loss: 1.0295 - val_acc: 0.7831\n",
            "Epoch 5/40\n",
            "200/200 [==============================] - 47s 235ms/step - loss: 0.1453 - acc: 0.9681 - val_loss: 1.1258 - val_acc: 0.7669\n",
            "Epoch 6/40\n",
            "200/200 [==============================] - 38s 188ms/step - loss: 0.0510 - acc: 0.9822 - val_loss: 0.8372 - val_acc: 0.7606\n",
            "Epoch 7/40\n",
            "200/200 [==============================] - 38s 192ms/step - loss: 0.0398 - acc: 0.9881 - val_loss: 0.9786 - val_acc: 0.7794\n",
            "Epoch 8/40\n",
            "200/200 [==============================] - 38s 190ms/step - loss: 0.0244 - acc: 0.9922 - val_loss: 0.9080 - val_acc: 0.7669\n",
            "Epoch 9/40\n",
            "200/200 [==============================] - 39s 194ms/step - loss: 0.0129 - acc: 0.9962 - val_loss: 1.0611 - val_acc: 0.7169\n",
            "Epoch 10/40\n",
            "200/200 [==============================] - 38s 191ms/step - loss: 0.0115 - acc: 0.9969 - val_loss: 0.8971 - val_acc: 0.7744\n",
            "Epoch 11/40\n",
            "200/200 [==============================] - 39s 194ms/step - loss: 0.0074 - acc: 0.9975 - val_loss: 1.2257 - val_acc: 0.7719\n",
            "Epoch 12/40\n",
            "200/200 [==============================] - 37s 185ms/step - loss: 0.0101 - acc: 0.9975 - val_loss: 1.0844 - val_acc: 0.7750\n",
            "Epoch 13/40\n",
            "200/200 [==============================] - 38s 188ms/step - loss: 0.0036 - acc: 0.9987 - val_loss: 1.1636 - val_acc: 0.7675\n",
            "Epoch 14/40\n",
            "200/200 [==============================] - 37s 187ms/step - loss: 0.0054 - acc: 0.9986 - val_loss: 1.4004 - val_acc: 0.7750\n",
            "Epoch 15/40\n",
            "200/200 [==============================] - 37s 185ms/step - loss: 0.0018 - acc: 0.9992 - val_loss: 1.6797 - val_acc: 0.7675\n",
            "Epoch 16/40\n",
            "200/200 [==============================] - 37s 183ms/step - loss: 8.3475e-04 - acc: 0.9997 - val_loss: 1.7090 - val_acc: 0.7738\n",
            "Epoch 17/40\n",
            "200/200 [==============================] - 37s 184ms/step - loss: 0.0044 - acc: 0.9991 - val_loss: 1.9284 - val_acc: 0.7669\n",
            "Epoch 18/40\n",
            "200/200 [==============================] - 37s 186ms/step - loss: 0.0031 - acc: 0.9991 - val_loss: 1.4340 - val_acc: 0.7625\n",
            "Epoch 19/40\n",
            "200/200 [==============================] - 37s 184ms/step - loss: 0.0017 - acc: 0.9995 - val_loss: 1.7133 - val_acc: 0.7550\n",
            "Epoch 20/40\n",
            "200/200 [==============================] - 36s 181ms/step - loss: 0.0010 - acc: 0.9997 - val_loss: 1.4888 - val_acc: 0.7588\n",
            "Epoch 21/40\n",
            "200/200 [==============================] - 37s 185ms/step - loss: 5.4367e-05 - acc: 1.0000 - val_loss: 1.9564 - val_acc: 0.7450\n",
            "Epoch 22/40\n",
            "200/200 [==============================] - 37s 186ms/step - loss: 0.0049 - acc: 0.9992 - val_loss: 1.9887 - val_acc: 0.7731\n",
            "Epoch 23/40\n",
            "200/200 [==============================] - 37s 183ms/step - loss: 0.0010 - acc: 0.9995 - val_loss: 1.9811 - val_acc: 0.7444\n",
            "Epoch 24/40\n",
            "200/200 [==============================] - 37s 183ms/step - loss: 5.3870e-05 - acc: 1.0000 - val_loss: 2.2417 - val_acc: 0.7663\n",
            "Epoch 25/40\n",
            "200/200 [==============================] - 37s 183ms/step - loss: 0.0012 - acc: 0.9997 - val_loss: 2.2147 - val_acc: 0.7588\n",
            "Epoch 26/40\n",
            "200/200 [==============================] - 36s 182ms/step - loss: 0.0059 - acc: 0.9992 - val_loss: 2.2723 - val_acc: 0.7681\n",
            "Epoch 27/40\n",
            "200/200 [==============================] - 37s 184ms/step - loss: 5.9607e-05 - acc: 1.0000 - val_loss: 2.2886 - val_acc: 0.7556\n",
            "Epoch 28/40\n",
            "200/200 [==============================] - 37s 184ms/step - loss: 0.0310 - acc: 0.9970 - val_loss: 1.9755 - val_acc: 0.7563\n",
            "Epoch 29/40\n",
            "200/200 [==============================] - 37s 184ms/step - loss: 0.0068 - acc: 0.9994 - val_loss: 2.1460 - val_acc: 0.7669\n",
            "Epoch 30/40\n",
            "200/200 [==============================] - 36s 182ms/step - loss: 1.8962e-04 - acc: 0.9998 - val_loss: 2.2265 - val_acc: 0.7594\n",
            "Epoch 31/40\n",
            "200/200 [==============================] - 36s 181ms/step - loss: 0.0056 - acc: 0.9992 - val_loss: 2.2160 - val_acc: 0.7631\n",
            "Epoch 32/40\n",
            "200/200 [==============================] - 37s 184ms/step - loss: 0.0022 - acc: 0.9994 - val_loss: 2.5092 - val_acc: 0.7156\n",
            "Epoch 33/40\n",
            "200/200 [==============================] - 37s 185ms/step - loss: 0.0326 - acc: 0.9961 - val_loss: 2.2164 - val_acc: 0.7556\n",
            "Epoch 34/40\n",
            "200/200 [==============================] - 37s 185ms/step - loss: 0.0095 - acc: 0.9981 - val_loss: 2.0562 - val_acc: 0.7387\n",
            "Epoch 35/40\n",
            "200/200 [==============================] - 37s 183ms/step - loss: 0.0013 - acc: 0.9998 - val_loss: 2.2919 - val_acc: 0.7644\n",
            "Epoch 36/40\n",
            "200/200 [==============================] - 37s 183ms/step - loss: 9.4978e-04 - acc: 0.9995 - val_loss: 2.2099 - val_acc: 0.7319\n",
            "Epoch 37/40\n",
            "200/200 [==============================] - 37s 183ms/step - loss: 1.9683e-05 - acc: 1.0000 - val_loss: 2.5063 - val_acc: 0.7594\n",
            "Epoch 38/40\n",
            "200/200 [==============================] - 37s 183ms/step - loss: 0.0011 - acc: 0.9997 - val_loss: 2.5630 - val_acc: 0.7525\n",
            "Epoch 39/40\n",
            "200/200 [==============================] - 36s 181ms/step - loss: 2.3386e-04 - acc: 0.9998 - val_loss: 2.3397 - val_acc: 0.7269\n",
            "Epoch 40/40\n",
            "200/200 [==============================] - 36s 182ms/step - loss: 0.0024 - acc: 0.9997 - val_loss: 2.2321 - val_acc: 0.7163\n"
          ]
        }
      ],
      "source": [
        "history = model.fit(tensor_x_train, tensor_y_train, epochs=epochs, batch_size=batch_size, validation_split=0.2, workers=-1, verbose=1)"
      ]
    },
    {
      "cell_type": "code",
      "execution_count": null,
      "metadata": {
        "colab": {
          "base_uri": "https://localhost:8080/",
          "height": 828
        },
        "id": "GlTQGPu9k5OH",
        "outputId": "f8bb7e21-9621-4c22-f4da-516a6870ea71"
      },
      "outputs": [
        {
          "name": "stdout",
          "output_type": "stream",
          "text": [
            "dict_keys(['loss', 'acc', 'val_loss', 'val_acc'])\n"
          ]
        },
        {
          "data": {
            "image/png": "[encoded data removed]",
            "text/plain": [
              "<Figure size 432x432 with 1 Axes>"
            ]
          },
          "metadata": {},
          "output_type": "display_data"
        },
        {
          "data": {
            "image/png": "[encoded data removed]",
            "text/plain": [
              "<Figure size 432x432 with 1 Axes>"
            ]
          },
          "metadata": {},
          "output_type": "display_data"
        }
      ],
      "source": [
        "plot_loss_accuracy_training(history)"
      ]
    },
    {
      "cell_type": "markdown",
      "metadata": {
        "id": "ULsqLk-BygWq"
      },
      "source": [
        "Tal y como se observa en la gráfica del loss, existe un sobre ajuste, ya que se está aumentando la pérdida a medida que transcurren las epoch, y la accuracy se mantiene más o menos constante durante el entrenamiento. A pesar del sobre ajuste, los resultados no son malos, con un 74.5% de F1.\n"
      ]
    },
    {
      "cell_type": "code",
      "execution_count": null,
      "metadata": {
        "colab": {
          "base_uri": "https://localhost:8080/"
        },
        "id": "uojH1zjPnBIg",
        "outputId": "a483b0ad-2ef1-405c-c329-d4e2df2130e7"
      },
      "outputs": [
        {
          "name": "stdout",
          "output_type": "stream",
          "text": [
            "Precision: 0.724 Recall 0.768 F1 score: 0.745 for Neuronal Network\n"
          ]
        }
      ],
      "source": [
        "evaluate_nn_classifier(tensor_x_test, binary_y_test, model)"
      ]
    },
    {
      "cell_type": "markdown",
      "metadata": {
        "id": "B9mFtBLZyvnM"
      },
      "source": [
        "Para tratar de evitar esto, se añade dropout regular del 20% (este dropout afecta a la entrada y salida de la capa) en la capa y un dropout recurrente del 25% (este dropout afecta a las conexiones entre las neuronas recurrentes)."
      ]
    },
    {
      "cell_type": "code",
      "execution_count": null,
      "metadata": {
        "colab": {
          "base_uri": "https://localhost:8080/"
        },
        "id": "M6D2H4tBt30P",
        "outputId": "3e3bde0e-1e84-4c85-f9ed-d7599b90b2c3"
      },
      "outputs": [
        {
          "name": "stdout",
          "output_type": "stream",
          "text": [
            "Model: \"sequential_5\"\n",
            "_________________________________________________________________\n",
            " Layer (type)                Output Shape              Param #   \n",
            "=================================================================\n",
            " embedding_5 (Embedding)     (None, 512, 100)          3218100   \n",
            "                                                                 \n",
            " simple_rnn_5 (SimpleRNN)    (None, 100)               20100     \n",
            "                                                                 \n",
            " dense_5 (Dense)             (None, 2)                 202       \n",
            "                                                                 \n",
            "=================================================================\n",
            "Total params: 3,238,402\n",
            "Trainable params: 3,238,402\n",
            "Non-trainable params: 0\n",
            "_________________________________________________________________\n"
          ]
        }
      ],
      "source": [
        "model = Sequential()\n",
        "model.add(Embedding(input_dim=vocab_size, output_dim=emb_dim, input_length=max_len))\n",
        "model.add(SimpleRNN(units=emb_dim, dropout=0.2, recurrent_dropout=0.25))\n",
        "model.add(Dense(classes, activation='sigmoid'))\n",
        "\n",
        "model.compile(optimizer='rmsprop', loss='binary_crossentropy', metrics=['acc'])\n",
        "model.summary()"
      ]
    },
    {
      "cell_type": "code",
      "execution_count": null,
      "metadata": {
        "colab": {
          "base_uri": "https://localhost:8080/"
        },
        "id": "nw3daf4buMqG",
        "outputId": "4bdb2e02-cb4b-4a87-8d16-bf7bfca7b549"
      },
      "outputs": [
        {
          "name": "stdout",
          "output_type": "stream",
          "text": [
            "Epoch 1/40\n",
            "200/200 [==============================] - 55s 262ms/step - loss: 0.7182 - acc: 0.4995 - val_loss: 0.6892 - val_acc: 0.5344\n",
            "Epoch 2/40\n",
            "200/200 [==============================] - 51s 253ms/step - loss: 0.6994 - acc: 0.5423 - val_loss: 0.6906 - val_acc: 0.5181\n",
            "Epoch 3/40\n",
            "200/200 [==============================] - 48s 238ms/step - loss: 0.6859 - acc: 0.5577 - val_loss: 0.6693 - val_acc: 0.5800\n",
            "Epoch 4/40\n",
            "200/200 [==============================] - 47s 236ms/step - loss: 0.6482 - acc: 0.6272 - val_loss: 0.6386 - val_acc: 0.6306\n",
            "Epoch 5/40\n",
            "200/200 [==============================] - 48s 241ms/step - loss: 0.5889 - acc: 0.7008 - val_loss: 0.6061 - val_acc: 0.6637\n",
            "Epoch 6/40\n",
            "200/200 [==============================] - 47s 235ms/step - loss: 0.5278 - acc: 0.7470 - val_loss: 0.5916 - val_acc: 0.6681\n",
            "Epoch 7/40\n",
            "200/200 [==============================] - 47s 237ms/step - loss: 0.4521 - acc: 0.7945 - val_loss: 0.5493 - val_acc: 0.7394\n",
            "Epoch 8/40\n",
            "200/200 [==============================] - 47s 234ms/step - loss: 0.3738 - acc: 0.8361 - val_loss: 0.5524 - val_acc: 0.7700\n",
            "Epoch 9/40\n",
            "200/200 [==============================] - 47s 234ms/step - loss: 0.3229 - acc: 0.8623 - val_loss: 0.4859 - val_acc: 0.7763\n",
            "Epoch 10/40\n",
            "200/200 [==============================] - 47s 237ms/step - loss: 0.3139 - acc: 0.8733 - val_loss: 0.4839 - val_acc: 0.7906\n",
            "Epoch 11/40\n",
            "200/200 [==============================] - 47s 233ms/step - loss: 0.2705 - acc: 0.8914 - val_loss: 0.4618 - val_acc: 0.7950\n",
            "Epoch 12/40\n",
            "200/200 [==============================] - 47s 235ms/step - loss: 0.2512 - acc: 0.9017 - val_loss: 0.4669 - val_acc: 0.8263\n",
            "Epoch 13/40\n",
            "200/200 [==============================] - 47s 236ms/step - loss: 0.2134 - acc: 0.9192 - val_loss: 0.4837 - val_acc: 0.8269\n",
            "Epoch 14/40\n",
            "200/200 [==============================] - 47s 235ms/step - loss: 0.1970 - acc: 0.9259 - val_loss: 0.5088 - val_acc: 0.8106\n",
            "Epoch 15/40\n",
            "200/200 [==============================] - 47s 235ms/step - loss: 0.1586 - acc: 0.9448 - val_loss: 0.4928 - val_acc: 0.8206\n",
            "Epoch 16/40\n",
            "200/200 [==============================] - 47s 236ms/step - loss: 0.1497 - acc: 0.9464 - val_loss: 0.5360 - val_acc: 0.8244\n",
            "Epoch 17/40\n",
            "200/200 [==============================] - 47s 236ms/step - loss: 0.1294 - acc: 0.9539 - val_loss: 0.5759 - val_acc: 0.8331\n",
            "Epoch 18/40\n",
            "200/200 [==============================] - 47s 237ms/step - loss: 0.1112 - acc: 0.9616 - val_loss: 0.5811 - val_acc: 0.8263\n",
            "Epoch 19/40\n",
            "200/200 [==============================] - 47s 237ms/step - loss: 0.1104 - acc: 0.9628 - val_loss: 0.6244 - val_acc: 0.8075\n",
            "Epoch 20/40\n",
            "200/200 [==============================] - 48s 240ms/step - loss: 0.1030 - acc: 0.9630 - val_loss: 0.7651 - val_acc: 0.8000\n",
            "Epoch 21/40\n",
            "200/200 [==============================] - 47s 237ms/step - loss: 0.0936 - acc: 0.9666 - val_loss: 0.6279 - val_acc: 0.8338\n",
            "Epoch 22/40\n",
            "200/200 [==============================] - 51s 257ms/step - loss: 0.0901 - acc: 0.9673 - val_loss: 0.7635 - val_acc: 0.7994\n",
            "Epoch 23/40\n",
            "200/200 [==============================] - 49s 242ms/step - loss: 0.0777 - acc: 0.9733 - val_loss: 0.7813 - val_acc: 0.7731\n",
            "Epoch 24/40\n",
            "200/200 [==============================] - 47s 236ms/step - loss: 0.0620 - acc: 0.9800 - val_loss: 0.7616 - val_acc: 0.7919\n",
            "Epoch 25/40\n",
            "200/200 [==============================] - 48s 238ms/step - loss: 0.0673 - acc: 0.9797 - val_loss: 0.7957 - val_acc: 0.8169\n",
            "Epoch 26/40\n",
            "200/200 [==============================] - 51s 257ms/step - loss: 0.0554 - acc: 0.9828 - val_loss: 1.0101 - val_acc: 0.7775\n",
            "Epoch 27/40\n",
            "200/200 [==============================] - 47s 236ms/step - loss: 0.0531 - acc: 0.9841 - val_loss: 0.8243 - val_acc: 0.7950\n",
            "Epoch 28/40\n",
            "200/200 [==============================] - 57s 287ms/step - loss: 0.0530 - acc: 0.9823 - val_loss: 0.7260 - val_acc: 0.7706\n",
            "Epoch 29/40\n",
            "200/200 [==============================] - 48s 239ms/step - loss: 0.0411 - acc: 0.9867 - val_loss: 0.7914 - val_acc: 0.7956\n",
            "Epoch 30/40\n",
            "200/200 [==============================] - 48s 240ms/step - loss: 0.0390 - acc: 0.9880 - val_loss: 0.8553 - val_acc: 0.7969\n",
            "Epoch 31/40\n",
            "200/200 [==============================] - 47s 238ms/step - loss: 0.0377 - acc: 0.9889 - val_loss: 0.8839 - val_acc: 0.7881\n",
            "Epoch 32/40\n",
            "200/200 [==============================] - 47s 236ms/step - loss: 0.0290 - acc: 0.9914 - val_loss: 0.8433 - val_acc: 0.7837\n",
            "Epoch 33/40\n",
            "200/200 [==============================] - 47s 236ms/step - loss: 0.0300 - acc: 0.9903 - val_loss: 1.0219 - val_acc: 0.7969\n",
            "Epoch 34/40\n",
            "200/200 [==============================] - 47s 237ms/step - loss: 0.0319 - acc: 0.9911 - val_loss: 0.8913 - val_acc: 0.7975\n",
            "Epoch 35/40\n",
            "200/200 [==============================] - 48s 238ms/step - loss: 0.0305 - acc: 0.9911 - val_loss: 1.0241 - val_acc: 0.7706\n",
            "Epoch 36/40\n",
            "200/200 [==============================] - 47s 233ms/step - loss: 0.0322 - acc: 0.9900 - val_loss: 0.9892 - val_acc: 0.7994\n",
            "Epoch 37/40\n",
            "200/200 [==============================] - 47s 236ms/step - loss: 0.0251 - acc: 0.9917 - val_loss: 1.0585 - val_acc: 0.7606\n",
            "Epoch 38/40\n",
            "200/200 [==============================] - 48s 238ms/step - loss: 0.0252 - acc: 0.9914 - val_loss: 1.1371 - val_acc: 0.7862\n",
            "Epoch 39/40\n",
            "200/200 [==============================] - 47s 234ms/step - loss: 0.0224 - acc: 0.9928 - val_loss: 1.0946 - val_acc: 0.7912\n",
            "Epoch 40/40\n",
            "200/200 [==============================] - 47s 237ms/step - loss: 0.0214 - acc: 0.9928 - val_loss: 1.1657 - val_acc: 0.7756\n"
          ]
        }
      ],
      "source": [
        "history = model.fit(tensor_x_train, tensor_y_train, epochs=epochs, batch_size=batch_size, validation_split=0.2, workers=-1, verbose=1)"
      ]
    },
    {
      "cell_type": "code",
      "execution_count": null,
      "metadata": {
        "colab": {
          "base_uri": "https://localhost:8080/",
          "height": 828
        },
        "id": "ATgAwaOcuPQs",
        "outputId": "78c20402-8cad-460e-8060-7d960dbce4b3"
      },
      "outputs": [
        {
          "name": "stdout",
          "output_type": "stream",
          "text": [
            "dict_keys(['loss', 'acc', 'val_loss', 'val_acc'])\n"
          ]
        },
        {
          "data": {
            "image/png": "[encoded data removed]",
            "text/plain": [
              "<Figure size 432x432 with 1 Axes>"
            ]
          },
          "metadata": {},
          "output_type": "display_data"
        },
        {
          "data": {
            "image/png": "[encoded data removed]",
            "text/plain": [
              "<Figure size 432x432 with 1 Axes>"
            ]
          },
          "metadata": {},
          "output_type": "display_data"
        }
      ],
      "source": [
        "plot_loss_accuracy_training(history)"
      ]
    },
    {
      "cell_type": "markdown",
      "metadata": {
        "id": "GARcGVbf382j"
      },
      "source": [
        "Aplicando el dropout, se ve una mejoría en los resultados de la evaluación, pero se observa un sobre ajuste a partir de la epoch 15 aproximadamente, por lo que ahora se van a utilizar los callbacks definidos anteriormente para tratar de evitar este sobre ajuste y realizar menor número de epoch.\n",
        "\n",
        "En este caso la F1 ha mejorado un 2%, llegando a un 76.5%."
      ]
    },
    {
      "cell_type": "code",
      "execution_count": null,
      "metadata": {
        "colab": {
          "base_uri": "https://localhost:8080/"
        },
        "id": "9sPCF0S5uREz",
        "outputId": "d5e10f74-e7d5-4cd1-a5c3-4a886da8740d"
      },
      "outputs": [
        {
          "name": "stdout",
          "output_type": "stream",
          "text": [
            "Precision: 0.755 Recall 0.775 F1 score: 0.765 for Neuronal Network\n"
          ]
        }
      ],
      "source": [
        "evaluate_nn_classifier(tensor_x_test, binary_y_test, model)"
      ]
    },
    {
      "cell_type": "code",
      "execution_count": null,
      "metadata": {
        "colab": {
          "base_uri": "https://localhost:8080/"
        },
        "id": "EntcF5N91ybb",
        "outputId": "165e4282-3bfb-4be9-ad3a-b83eb668209d"
      },
      "outputs": [
        {
          "name": "stdout",
          "output_type": "stream",
          "text": [
            "Epoch 1/40\n",
            "200/200 [==============================] - 62s 310ms/step - loss: 0.0201 - acc: 0.9937 - val_loss: 1.2352 - val_acc: 0.7500\n",
            "Epoch 2/40\n",
            "200/200 [==============================] - 47s 236ms/step - loss: 0.0174 - acc: 0.9948 - val_loss: 1.5301 - val_acc: 0.7538\n",
            "Epoch 3/40\n",
            "200/200 [==============================] - 53s 264ms/step - loss: 0.0209 - acc: 0.9942 - val_loss: 1.1834 - val_acc: 0.7831\n",
            "Epoch 4/40\n",
            "200/200 [==============================] - 47s 237ms/step - loss: 0.0146 - acc: 0.9950 - val_loss: 1.2800 - val_acc: 0.7681\n",
            "Epoch 5/40\n",
            "200/200 [==============================] - 49s 244ms/step - loss: 0.0173 - acc: 0.9953 - val_loss: 1.2292 - val_acc: 0.7600\n",
            "Epoch 6/40\n",
            "200/200 [==============================] - 48s 238ms/step - loss: 0.0158 - acc: 0.9942 - val_loss: 1.2352 - val_acc: 0.7837\n",
            "Epoch 7/40\n",
            "200/200 [==============================] - 48s 242ms/step - loss: 0.0116 - acc: 0.9970 - val_loss: 1.2646 - val_acc: 0.7900\n",
            "Epoch 8/40\n",
            "200/200 [==============================] - 48s 239ms/step - loss: 0.0155 - acc: 0.9948 - val_loss: 1.0569 - val_acc: 0.7887\n",
            "Epoch 9/40\n",
            "200/200 [==============================] - 47s 237ms/step - loss: 0.0137 - acc: 0.9961 - val_loss: 1.3728 - val_acc: 0.7619\n",
            "Epoch 10/40\n",
            "200/200 [==============================] - 47s 236ms/step - loss: 0.0106 - acc: 0.9972 - val_loss: 1.4259 - val_acc: 0.7569\n",
            "Epoch 11/40\n",
            "200/200 [==============================] - 47s 237ms/step - loss: 0.0116 - acc: 0.9962 - val_loss: 1.4469 - val_acc: 0.7531\n",
            "Epoch 12/40\n",
            "200/200 [==============================] - 48s 239ms/step - loss: 0.0148 - acc: 0.9955 - val_loss: 1.3082 - val_acc: 0.7788\n"
          ]
        }
      ],
      "source": [
        "history = model.fit(tensor_x_train, tensor_y_train, epochs=epochs, batch_size=batch_size, validation_split=0.2, workers=-1, verbose=1, callbacks=[early_stopping_acc, early_stopping_loss])"
      ]
    },
    {
      "cell_type": "code",
      "execution_count": null,
      "metadata": {
        "colab": {
          "base_uri": "https://localhost:8080/",
          "height": 828
        },
        "id": "Qe1wl8Im15sR",
        "outputId": "0764a1e4-8e48-4bef-b939-dae774603a35"
      },
      "outputs": [
        {
          "name": "stdout",
          "output_type": "stream",
          "text": [
            "dict_keys(['loss', 'acc', 'val_loss', 'val_acc'])\n"
          ]
        },
        {
          "data": {
            "image/png": "[encoded data removed]",
            "text/plain": [
              "<Figure size 432x432 with 1 Axes>"
            ]
          },
          "metadata": {},
          "output_type": "display_data"
        },
        {
          "data": {
            "image/png": "[encoded data removed]",
            "text/plain": [
              "<Figure size 432x432 with 1 Axes>"
            ]
          },
          "metadata": {},
          "output_type": "display_data"
        }
      ],
      "source": [
        "plot_loss_accuracy_training(history)"
      ]
    },
    {
      "cell_type": "markdown",
      "metadata": {
        "id": "4kD0pvSa7KU0"
      },
      "source": [
        "Tras aplicar los callbacks de parada, se oberva una mejoría en los resultados, con casi un 78% de F1. El modelo se ha detenido a las 12 epoch, aproximadamente cuando empezaba a producirse el sobre ajuste."
      ]
    },
    {
      "cell_type": "code",
      "execution_count": null,
      "metadata": {
        "colab": {
          "base_uri": "https://localhost:8080/"
        },
        "id": "ONBT3eMe18U-",
        "outputId": "6db89287-f80c-43d6-8c69-0fd49d680944"
      },
      "outputs": [
        {
          "name": "stdout",
          "output_type": "stream",
          "text": [
            "Precision: 0.768 Recall 0.790 F1 score: 0.779 for Neuronal Network\n"
          ]
        }
      ],
      "source": [
        "evaluate_nn_classifier(tensor_x_test, binary_y_test, model)"
      ]
    },
    {
      "cell_type": "markdown",
      "metadata": {
        "id": "UYRWZIjHwrfR"
      },
      "source": [
        "### 3.2 Capa de GRU\n",
        "\n",
        "Una vez probadas la capa simple de RNN, se va a probar la capa GRU (Gated Recurrent Unit), que utilizan una especie de \"memoria\" para ser capaces de retener el contexto. Debido a esto, esta capa tiene más parámetros que entrenar, 60.600 de la capa de GRU, frente a 20.100 de la RNN simple.\n",
        "\n",
        "Lo que hace que el entrenamiento se más lento, pero al ser un modelo más complejo debería tener mejores resultados."
      ]
    },
    {
      "cell_type": "code",
      "execution_count": null,
      "metadata": {
        "colab": {
          "base_uri": "https://localhost:8080/"
        },
        "id": "m5JcZk744Rwx",
        "outputId": "553f1fa7-9f90-4279-dca1-adfc5d6b2d24"
      },
      "outputs": [
        {
          "name": "stdout",
          "output_type": "stream",
          "text": [
            "Model: \"sequential_6\"\n",
            "_________________________________________________________________\n",
            " Layer (type)                Output Shape              Param #   \n",
            "=================================================================\n",
            " embedding_6 (Embedding)     (None, 512, 100)          3218100   \n",
            "                                                                 \n",
            " gru (GRU)                   (None, 100)               60600     \n",
            "                                                                 \n",
            " dense_6 (Dense)             (None, 2)                 202       \n",
            "                                                                 \n",
            "=================================================================\n",
            "Total params: 3,278,902\n",
            "Trainable params: 3,278,902\n",
            "Non-trainable params: 0\n",
            "_________________________________________________________________\n"
          ]
        }
      ],
      "source": [
        "gru_model = Sequential()\n",
        "gru_model.add(Embedding(input_dim=vocab_size, output_dim=emb_dim, input_length=max_len))\n",
        "gru_model.add(GRU(units=emb_dim, dropout=0.2, recurrent_dropout=0.25))\n",
        "gru_model.add(Dense(classes, activation='sigmoid'))\n",
        "\n",
        "gru_model.compile(optimizer='rmsprop', loss='binary_crossentropy', metrics=['acc'])\n",
        "gru_model.summary()"
      ]
    },
    {
      "cell_type": "code",
      "execution_count": null,
      "metadata": {
        "colab": {
          "base_uri": "https://localhost:8080/"
        },
        "id": "JJ-uzE3z4ovT",
        "outputId": "21212d55-8195-4e1b-af20-a67e1d623994"
      },
      "outputs": [
        {
          "name": "stdout",
          "output_type": "stream",
          "text": [
            "Epoch 1/40\n",
            "200/200 [==============================] - 424s 2s/step - loss: 0.4927 - acc: 0.7458 - val_loss: 0.3709 - val_acc: 0.8481\n",
            "Epoch 2/40\n",
            "200/200 [==============================] - 386s 2s/step - loss: 0.2477 - acc: 0.9083 - val_loss: 0.3564 - val_acc: 0.8587\n",
            "Epoch 3/40\n",
            "200/200 [==============================] - 382s 2s/step - loss: 0.1551 - acc: 0.9452 - val_loss: 0.3949 - val_acc: 0.8375\n",
            "Epoch 4/40\n",
            "200/200 [==============================] - 381s 2s/step - loss: 0.1088 - acc: 0.9625 - val_loss: 0.4002 - val_acc: 0.8481\n",
            "Epoch 5/40\n",
            "200/200 [==============================] - 378s 2s/step - loss: 0.0707 - acc: 0.9781 - val_loss: 0.4243 - val_acc: 0.8512\n",
            "Epoch 6/40\n",
            "200/200 [==============================] - 380s 2s/step - loss: 0.0421 - acc: 0.9853 - val_loss: 0.5266 - val_acc: 0.8556\n",
            "Epoch 7/40\n",
            "200/200 [==============================] - 384s 2s/step - loss: 0.0314 - acc: 0.9917 - val_loss: 0.6801 - val_acc: 0.8487\n"
          ]
        }
      ],
      "source": [
        "history = gru_model.fit(tensor_x_train, tensor_y_train, epochs=epochs, batch_size=batch_size, validation_split=0.2, workers=-1, verbose=1, callbacks=[early_stopping_acc, early_stopping_loss])"
      ]
    },
    {
      "cell_type": "code",
      "execution_count": null,
      "metadata": {
        "colab": {
          "base_uri": "https://localhost:8080/",
          "height": 828
        },
        "id": "AeVeTsdG40Sp",
        "outputId": "71f224a7-9ca3-4088-e935-93e22a959786"
      },
      "outputs": [
        {
          "name": "stdout",
          "output_type": "stream",
          "text": [
            "dict_keys(['loss', 'acc', 'val_loss', 'val_acc'])\n"
          ]
        },
        {
          "data": {
            "image/png": "[encoded data removed]",
            "text/plain": [
              "<Figure size 432x432 with 1 Axes>"
            ]
          },
          "metadata": {},
          "output_type": "display_data"
        },
        {
          "data": {
            "image/png": "[encoded data removed]",
            "text/plain": [
              "<Figure size 432x432 with 1 Axes>"
            ]
          },
          "metadata": {},
          "output_type": "display_data"
        }
      ],
      "source": [
        "plot_loss_accuracy_training(history)"
      ]
    },
    {
      "cell_type": "markdown",
      "metadata": {
        "id": "4teVo0FR-vlJ"
      },
      "source": [
        "Tal y como se esperaba, los resultados son significativamente mejores, con un F1 del 85.5%. A pesar del dropout y los callbacks, se ve como el modelo sigue aumentando la pérdida en las últimas epoch."
      ]
    },
    {
      "cell_type": "code",
      "execution_count": null,
      "metadata": {
        "colab": {
          "base_uri": "https://localhost:8080/"
        },
        "id": "4JV4mGVV42DW",
        "outputId": "ff563ced-dddd-486a-d529-c5dcb65d8395"
      },
      "outputs": [
        {
          "name": "stdout",
          "output_type": "stream",
          "text": [
            "Precision: 0.862 Recall 0.849 F1 score: 0.855 for Neuronal Network\n"
          ]
        }
      ],
      "source": [
        "evaluate_nn_classifier(tensor_x_test, binary_y_test, gru_model)"
      ]
    },
    {
      "cell_type": "markdown",
      "metadata": {
        "id": "DQg7skEW_ekg"
      },
      "source": [
        "### 3.3 Capa de LSTM\n",
        "\n",
        "Finalmente, se va a probar la capa más compleja y con mayor número de parámetros, LSTM (Long Short-Term Memory), que cuenta con una estructura ligeramente más compleja de que la GRU, ya que tiene una celda de memoria, lo que supone entrenar 80.400 parámteros, frente a los 60.600 de la GRU, y los 20.100 de la capa simple.\n",
        "\n",
        "La capa LSTM puede acumular información tanto a corto como a largo plazo. Lo que hace que el entrenamiento se más lento, pero al ser un modelo más complejo debería tener mejores resultados.\n",
        "\n",
        "Para tratar de solventar una vez más el problema del sobre ajuste, se ha aumentado el dropout recurrente (entre neuronas) del 25% al 50%."
      ]
    },
    {
      "cell_type": "code",
      "execution_count": null,
      "metadata": {
        "colab": {
          "base_uri": "https://localhost:8080/"
        },
        "id": "VdikDoAZhYTS",
        "outputId": "f35061aa-ea44-415c-e3f0-8f41d7b5beb0"
      },
      "outputs": [
        {
          "name": "stdout",
          "output_type": "stream",
          "text": [
            "Model: \"sequential_10\"\n",
            "_________________________________________________________________\n",
            " Layer (type)                Output Shape              Param #   \n",
            "=================================================================\n",
            " embedding_10 (Embedding)    (None, 512, 100)          3218100   \n",
            "                                                                 \n",
            " lstm (LSTM)                 (None, 100)               80400     \n",
            "                                                                 \n",
            " dense_10 (Dense)            (None, 2)                 202       \n",
            "                                                                 \n",
            "=================================================================\n",
            "Total params: 3,298,702\n",
            "Trainable params: 3,298,702\n",
            "Non-trainable params: 0\n",
            "_________________________________________________________________\n"
          ]
        }
      ],
      "source": [
        "lstm_model = Sequential()\n",
        "lstm_model.add(Embedding(input_dim=vocab_size, output_dim=emb_dim, input_length=max_len))\n",
        "lstm_model.add(LSTM(units=emb_dim, dropout=0.2, recurrent_dropout=0.5))\n",
        "lstm_model.add(Dense(classes, activation='sigmoid'))\n",
        "\n",
        "lstm_model.compile(optimizer='rmsprop', loss='binary_crossentropy', metrics=['acc'])\n",
        "lstm_model.summary()"
      ]
    },
    {
      "cell_type": "code",
      "execution_count": null,
      "metadata": {
        "colab": {
          "base_uri": "https://localhost:8080/"
        },
        "id": "wt-c0a1Uhfm2",
        "outputId": "1ae43f65-9f7e-40cb-9c8a-7ed975d1cff0"
      },
      "outputs": [
        {
          "name": "stdout",
          "output_type": "stream",
          "text": [
            "Epoch 1/40\n",
            "200/200 [==============================] - 218s 1s/step - loss: 0.4978 - acc: 0.7661 - val_loss: 0.3456 - val_acc: 0.8569\n",
            "Epoch 2/40\n",
            "200/200 [==============================] - 207s 1s/step - loss: 0.2444 - acc: 0.9078 - val_loss: 0.3298 - val_acc: 0.8669\n",
            "Epoch 3/40\n",
            "200/200 [==============================] - 204s 1s/step - loss: 0.1533 - acc: 0.9484 - val_loss: 0.3987 - val_acc: 0.8575\n",
            "Epoch 4/40\n",
            "200/200 [==============================] - 208s 1s/step - loss: 0.1083 - acc: 0.9639 - val_loss: 0.4659 - val_acc: 0.8500\n",
            "Epoch 5/40\n",
            "200/200 [==============================] - 205s 1s/step - loss: 0.0748 - acc: 0.9762 - val_loss: 0.4971 - val_acc: 0.8600\n",
            "Epoch 6/40\n",
            "200/200 [==============================] - 205s 1s/step - loss: 0.0542 - acc: 0.9819 - val_loss: 0.4688 - val_acc: 0.8537\n",
            "Epoch 7/40\n",
            "200/200 [==============================] - 205s 1s/step - loss: 0.0381 - acc: 0.9884 - val_loss: 0.5929 - val_acc: 0.8550\n"
          ]
        }
      ],
      "source": [
        "history = lstm_model.fit(tensor_x_train, tensor_y_train, epochs=epochs, batch_size=batch_size, validation_split=0.2, workers=-1, verbose=1, callbacks=[early_stopping_acc, early_stopping_loss])"
      ]
    },
    {
      "cell_type": "code",
      "execution_count": null,
      "metadata": {
        "colab": {
          "base_uri": "https://localhost:8080/",
          "height": 828
        },
        "id": "MEKwMspmhkY2",
        "outputId": "cf544e71-6103-4bf6-ef57-893f00cda554"
      },
      "outputs": [
        {
          "name": "stdout",
          "output_type": "stream",
          "text": [
            "dict_keys(['loss', 'acc', 'val_loss', 'val_acc'])\n"
          ]
        },
        {
          "data": {
            "image/png": "[encoded data removed]",
            "text/plain": [
              "<Figure size 432x432 with 1 Axes>"
            ]
          },
          "metadata": {},
          "output_type": "display_data"
        },
        {
          "data": {
            "image/png": "[encoded data removed]",
            "text/plain": [
              "<Figure size 432x432 with 1 Axes>"
            ]
          },
          "metadata": {},
          "output_type": "display_data"
        }
      ],
      "source": [
        "plot_loss_accuracy_training(history)"
      ]
    },
    {
      "cell_type": "markdown",
      "metadata": {
        "id": "9nKj5CtjBPYG"
      },
      "source": [
        "En esta ocasión los resultados no varían mucho respecto a la capa GRU, obteniendo un F1 del 86.5%, un 1% más que en el caso anterior."
      ]
    },
    {
      "cell_type": "code",
      "execution_count": null,
      "metadata": {
        "colab": {
          "base_uri": "https://localhost:8080/"
        },
        "id": "f2Z4xRl1hmBi",
        "outputId": "40c80b8f-4bb8-4e90-b8e4-600c5dae2fc7"
      },
      "outputs": [
        {
          "name": "stdout",
          "output_type": "stream",
          "text": [
            "Precision: 0.858 Recall 0.871 F1 score: 0.865 for Neuronal Network\n"
          ]
        }
      ],
      "source": [
        "evaluate_nn_classifier(tensor_x_test, binary_y_test, lstm_model)"
      ]
    },
    {
      "cell_type": "markdown",
      "metadata": {
        "id": "tF4vrxbN_ar4"
      },
      "source": [
        "### 3.4 Capas apiladas\n",
        "\n",
        "Una vez probados los modelos con una única capa recurrente. Se va a probar a añadir más de una capa apilada, es decir, la salida de la capa será la entrada de otra capa, con el fin de ver si los resultados mejoran. Cabe destacar que el número de parámetros del modelo aumentará, ya que se utilizarán el doble de parámetros en las capas recurrentes."
      ]
    },
    {
      "cell_type": "markdown",
      "metadata": {
        "id": "9RPxDUj57Ufe"
      },
      "source": [
        "#### 3.4.1 Capas Simples apiladas\n",
        "\n",
        "En este caso se va a probar a utilizar dos capas Simples RNN aplidas, ambas con los mismos hiperparámetros."
      ]
    },
    {
      "cell_type": "code",
      "execution_count": null,
      "metadata": {
        "colab": {
          "base_uri": "https://localhost:8080/"
        },
        "id": "Xr9kZIK87bPO",
        "outputId": "d991e993-0e6b-4c2f-9ea1-bde7a03b902a"
      },
      "outputs": [
        {
          "name": "stdout",
          "output_type": "stream",
          "text": [
            "Model: \"sequential\"\n",
            "_________________________________________________________________\n",
            " Layer (type)                Output Shape              Param #   \n",
            "=================================================================\n",
            " embedding (Embedding)       (None, 512, 100)          3218100   \n",
            "                                                                 \n",
            " simple_rnn (SimpleRNN)      (None, 512, 100)          20100     \n",
            "                                                                 \n",
            " simple_rnn_1 (SimpleRNN)    (None, 100)               20100     \n",
            "                                                                 \n",
            " dense (Dense)               (None, 2)                 202       \n",
            "                                                                 \n",
            "=================================================================\n",
            "Total params: 3,258,502\n",
            "Trainable params: 3,258,502\n",
            "Non-trainable params: 0\n",
            "_________________________________________________________________\n"
          ]
        }
      ],
      "source": [
        "simple_model_stacked = Sequential()\n",
        "simple_model_stacked.add(Embedding(input_dim=vocab_size, output_dim=emb_dim, input_length=max_len))\n",
        "simple_model_stacked.add(SimpleRNN(units=emb_dim, dropout=0.2, recurrent_dropout=0.5, return_sequences=True))\n",
        "simple_model_stacked.add(SimpleRNN(units=emb_dim, dropout=0.2, recurrent_dropout=0.5))\n",
        "simple_model_stacked.add(Dense(classes, activation='sigmoid'))\n",
        "\n",
        "simple_model_stacked.compile(optimizer='rmsprop', loss='binary_crossentropy', metrics=['acc'])\n",
        "simple_model_stacked.summary()"
      ]
    },
    {
      "cell_type": "code",
      "execution_count": null,
      "metadata": {
        "colab": {
          "base_uri": "https://localhost:8080/"
        },
        "id": "uxNJc2CvA4qP",
        "outputId": "ff2cfa0f-d928-4f50-ca79-1bb168e6cf78"
      },
      "outputs": [
        {
          "name": "stdout",
          "output_type": "stream",
          "text": [
            "Epoch 1/40\n",
            "200/200 [==============================] - 99s 463ms/step - loss: 0.7440 - acc: 0.4975 - val_loss: 0.7009 - val_acc: 0.5019\n",
            "Epoch 2/40\n",
            "200/200 [==============================] - 92s 458ms/step - loss: 0.7117 - acc: 0.4992 - val_loss: 0.6986 - val_acc: 0.4881\n",
            "Epoch 3/40\n",
            "200/200 [==============================] - 88s 439ms/step - loss: 0.7054 - acc: 0.5053 - val_loss: 0.6943 - val_acc: 0.5000\n",
            "Epoch 4/40\n",
            "200/200 [==============================] - 101s 507ms/step - loss: 0.7025 - acc: 0.5055 - val_loss: 0.6946 - val_acc: 0.5031\n",
            "Epoch 5/40\n",
            "200/200 [==============================] - 87s 433ms/step - loss: 0.7026 - acc: 0.5052 - val_loss: 0.7038 - val_acc: 0.4831\n",
            "Epoch 6/40\n",
            "200/200 [==============================] - 86s 432ms/step - loss: 0.7022 - acc: 0.5039 - val_loss: 0.7094 - val_acc: 0.4831\n",
            "Epoch 7/40\n",
            "200/200 [==============================] - 87s 433ms/step - loss: 0.7006 - acc: 0.5044 - val_loss: 0.7041 - val_acc: 0.4831\n",
            "Epoch 8/40\n",
            "200/200 [==============================] - 87s 434ms/step - loss: 0.6984 - acc: 0.5013 - val_loss: 0.6948 - val_acc: 0.5250\n"
          ]
        }
      ],
      "source": [
        "history = simple_model_stacked.fit(tensor_x_train, tensor_y_train, epochs=epochs, batch_size=batch_size, validation_split=0.2, workers=-1, verbose=1, callbacks=[early_stopping_acc, early_stopping_loss])"
      ]
    },
    {
      "cell_type": "markdown",
      "metadata": {
        "id": "vy7EN5FNQxDX"
      },
      "source": [
        "Tal y como se observa, los resultados son muy malos, con un 27.5% de F1. Es posible que esta capa no esté diseñada para procesar los datos de salida de otra capa, lo que haya ensuciado mucho los datos para realizar la tarea de clasificación."
      ]
    },
    {
      "cell_type": "code",
      "execution_count": null,
      "metadata": {
        "colab": {
          "base_uri": "https://localhost:8080/"
        },
        "id": "lNftrI7eA8hL",
        "outputId": "91a1b905-d629-45f8-e714-5532577750a7"
      },
      "outputs": [
        {
          "name": "stdout",
          "output_type": "stream",
          "text": [
            "Precision: 0.536 Recall 0.185 F1 score: 0.275 for Neuronal Network\n"
          ]
        }
      ],
      "source": [
        "evaluate_nn_classifier(tensor_x_test, binary_y_test, simple_model_stacked)"
      ]
    },
    {
      "cell_type": "markdown",
      "metadata": {
        "id": "4kctminBL7ky"
      },
      "source": [
        "#### 3.4.2 Capas GRU apiladas\n",
        "\n",
        "En este caso se va a probar a utilizar dos capas GRU aplidas, ambas con los mismos hiperparámetros."
      ]
    },
    {
      "cell_type": "code",
      "execution_count": null,
      "metadata": {
        "colab": {
          "base_uri": "https://localhost:8080/"
        },
        "id": "6YVcUHwb48Oh",
        "outputId": "20ef03e8-14a7-4521-b5f4-960f54224952"
      },
      "outputs": [
        {
          "name": "stdout",
          "output_type": "stream",
          "text": [
            "Model: \"sequential_9\"\n",
            "_________________________________________________________________\n",
            " Layer (type)                Output Shape              Param #   \n",
            "=================================================================\n",
            " embedding_9 (Embedding)     (None, 512, 100)          3218100   \n",
            "                                                                 \n",
            " gru_5 (GRU)                 (None, 512, 100)          60600     \n",
            "                                                                 \n",
            " gru_6 (GRU)                 (None, 100)               60600     \n",
            "                                                                 \n",
            " dense_9 (Dense)             (None, 2)                 202       \n",
            "                                                                 \n",
            "=================================================================\n",
            "Total params: 3,339,502\n",
            "Trainable params: 3,339,502\n",
            "Non-trainable params: 0\n",
            "_________________________________________________________________\n"
          ]
        }
      ],
      "source": [
        "gru_model_stacked = Sequential()\n",
        "gru_model_stacked.add(Embedding(input_dim=vocab_size, output_dim=emb_dim, input_length=max_len))\n",
        "gru_model_stacked.add(GRU(units=emb_dim, dropout=0.2, recurrent_dropout=0.5, return_sequences=True))\n",
        "gru_model_stacked.add(GRU(units=emb_dim, dropout=0.2, recurrent_dropout=0.5))\n",
        "gru_model_stacked.add(Dense(classes, activation='sigmoid'))\n",
        "\n",
        "gru_model_stacked.compile(optimizer='rmsprop', loss='binary_crossentropy', metrics=['acc'])\n",
        "gru_model_stacked.summary()"
      ]
    },
    {
      "cell_type": "code",
      "execution_count": null,
      "metadata": {
        "colab": {
          "base_uri": "https://localhost:8080/"
        },
        "id": "mf4CTXJg63IU",
        "outputId": "25203469-9ff8-4ac0-cc61-e5ffe4042944"
      },
      "outputs": [
        {
          "name": "stdout",
          "output_type": "stream",
          "text": [
            "Epoch 1/40\n",
            "200/200 [==============================] - 393s 2s/step - loss: 0.5031 - acc: 0.7448 - val_loss: 0.4218 - val_acc: 0.8169\n",
            "Epoch 2/40\n",
            "200/200 [==============================] - 377s 2s/step - loss: 0.2730 - acc: 0.8928 - val_loss: 0.3540 - val_acc: 0.8494\n",
            "Epoch 3/40\n",
            "200/200 [==============================] - 377s 2s/step - loss: 0.1732 - acc: 0.9370 - val_loss: 0.3671 - val_acc: 0.8456\n",
            "Epoch 4/40\n",
            "200/200 [==============================] - 376s 2s/step - loss: 0.1313 - acc: 0.9559 - val_loss: 0.3789 - val_acc: 0.8481\n",
            "Epoch 5/40\n",
            "200/200 [==============================] - 376s 2s/step - loss: 0.0890 - acc: 0.9730 - val_loss: 0.4444 - val_acc: 0.8494\n",
            "Epoch 6/40\n",
            "200/200 [==============================] - 378s 2s/step - loss: 0.0592 - acc: 0.9808 - val_loss: 0.5781 - val_acc: 0.8419\n",
            "Epoch 7/40\n",
            "200/200 [==============================] - 375s 2s/step - loss: 0.0357 - acc: 0.9883 - val_loss: 0.6128 - val_acc: 0.8519\n"
          ]
        }
      ],
      "source": [
        "history = gru_model_stacked.fit(tensor_x_train, tensor_y_train, epochs=epochs, batch_size=batch_size, validation_split=0.2, workers=-1, verbose=1, callbacks=[early_stopping_acc, early_stopping_loss])"
      ]
    },
    {
      "cell_type": "markdown",
      "metadata": {
        "id": "uAIeGLxBOawx"
      },
      "source": [
        "Como se observa, se ha obtenido un 85.8% de F1. Los resultados no son mucho mejores a los obtenidos con una única capa GRU 85.5%, por lo que añadir una capa apilada ha mejorado los resultados un 0.3%.\n",
        "\n",
        "Teniendo en cuenta el aumento del número de parámetros, se puede asumir que no es beneficioso añadir una capa apilada en terminos de eficiencia."
      ]
    },
    {
      "cell_type": "code",
      "execution_count": null,
      "metadata": {
        "colab": {
          "base_uri": "https://localhost:8080/"
        },
        "id": "FMAETaI268sz",
        "outputId": "0c6e6a09-627e-4d0f-df64-04daeb31b20b"
      },
      "outputs": [
        {
          "name": "stdout",
          "output_type": "stream",
          "text": [
            "Precision: 0.857 Recall 0.859 F1 score: 0.858 for Neuronal Network\n"
          ]
        }
      ],
      "source": [
        "evaluate_nn_classifier(tensor_x_test, binary_y_test, gru_model_stacked)"
      ]
    },
    {
      "cell_type": "markdown",
      "metadata": {
        "id": "wARkK5TtMLmZ"
      },
      "source": [
        "#### 3.4.3 Capas LSTM apiladas\n",
        "\n",
        "Para el caso anterior, no se han observado mejoras significativas al apilar dos capas, ahora se va a probar a apilar dos capas LSTM aumentando el número de unidades en la segunda capa a 200 en lugar de 100."
      ]
    },
    {
      "cell_type": "code",
      "execution_count": null,
      "metadata": {
        "colab": {
          "base_uri": "https://localhost:8080/"
        },
        "id": "2rDt9qmcnk03",
        "outputId": "55a1628d-1d7e-44df-a348-14d199a8f852"
      },
      "outputs": [
        {
          "name": "stdout",
          "output_type": "stream",
          "text": [
            "Model: \"sequential\"\n",
            "_________________________________________________________________\n",
            " Layer (type)                Output Shape              Param #   \n",
            "=================================================================\n",
            " embedding (Embedding)       (None, 512, 100)          3218100   \n",
            "                                                                 \n",
            " lstm (LSTM)                 (None, 512, 100)          80400     \n",
            "                                                                 \n",
            " lstm_1 (LSTM)               (None, 200)               240800    \n",
            "                                                                 \n",
            " dense (Dense)               (None, 2)                 402       \n",
            "                                                                 \n",
            "=================================================================\n",
            "Total params: 3,539,702\n",
            "Trainable params: 3,539,702\n",
            "Non-trainable params: 0\n",
            "_________________________________________________________________\n"
          ]
        }
      ],
      "source": [
        "lstm_model_stacked = Sequential()\n",
        "lstm_model_stacked.add(Embedding(input_dim=vocab_size, output_dim=emb_dim, input_length=max_len))\n",
        "lstm_model_stacked.add(LSTM(units=emb_dim, dropout=0.2, recurrent_dropout=0.5, return_sequences=True))\n",
        "lstm_model_stacked.add(LSTM(units=200, dropout=0.2, recurrent_dropout=0.5))\n",
        "lstm_model_stacked.add(Dense(classes, activation='sigmoid'))\n",
        "\n",
        "lstm_model_stacked.compile(optimizer='rmsprop', loss='binary_crossentropy', metrics=['acc'])\n",
        "lstm_model_stacked.summary()"
      ]
    },
    {
      "cell_type": "code",
      "execution_count": null,
      "metadata": {
        "colab": {
          "base_uri": "https://localhost:8080/"
        },
        "id": "sRqpLc-8oJqH",
        "outputId": "8cbd832a-a7cf-4436-fdaa-76e38721a8a8"
      },
      "outputs": [
        {
          "name": "stdout",
          "output_type": "stream",
          "text": [
            "Epoch 1/40\n",
            "200/200 [==============================] - 821s 4s/step - loss: 0.4835 - acc: 0.7614 - val_loss: 0.3966 - val_acc: 0.8288\n",
            "Epoch 2/40\n",
            "200/200 [==============================] - 801s 4s/step - loss: 0.2387 - acc: 0.9122 - val_loss: 0.3665 - val_acc: 0.8363\n",
            "Epoch 3/40\n",
            "200/200 [==============================] - 798s 4s/step - loss: 0.1570 - acc: 0.9469 - val_loss: 0.3993 - val_acc: 0.8213\n",
            "Epoch 4/40\n",
            "200/200 [==============================] - 797s 4s/step - loss: 0.1131 - acc: 0.9642 - val_loss: 0.4655 - val_acc: 0.8606\n",
            "Epoch 5/40\n",
            "200/200 [==============================] - 799s 4s/step - loss: 0.0747 - acc: 0.9736 - val_loss: 0.5199 - val_acc: 0.8519\n",
            "Epoch 6/40\n",
            "200/200 [==============================] - 788s 4s/step - loss: 0.0505 - acc: 0.9867 - val_loss: 0.5679 - val_acc: 0.8531\n",
            "Epoch 7/40\n",
            "200/200 [==============================] - 796s 4s/step - loss: 0.0368 - acc: 0.9884 - val_loss: 0.6359 - val_acc: 0.8400\n"
          ]
        }
      ],
      "source": [
        "history = lstm_model_stacked.fit(tensor_x_train, tensor_y_train, epochs=epochs, batch_size=batch_size, validation_split=0.2, workers=-1, verbose=1, callbacks=[early_stopping_acc, early_stopping_loss])"
      ]
    },
    {
      "cell_type": "markdown",
      "metadata": {
        "id": "zatIerQj8-J0"
      },
      "source": [
        "Apilando dos capas LSTM se ha obtenido un F1 de 84.5%, frente al 86.5% obtenido con una única capa LSTM, por lo que no es conveniente apilar dos capas en este caso. Además del tiempo extra de entrenamiento, debido al aumento del número de parámetros."
      ]
    },
    {
      "cell_type": "code",
      "execution_count": null,
      "metadata": {
        "colab": {
          "base_uri": "https://localhost:8080/"
        },
        "id": "Nsme7U2SoNel",
        "outputId": "51c2ac94-e298-49df-b323-1226732e3de0"
      },
      "outputs": [
        {
          "name": "stdout",
          "output_type": "stream",
          "text": [
            "Precision: 0.855 Recall 0.835 F1 score: 0.845 for Neuronal Network\n"
          ]
        }
      ],
      "source": [
        "evaluate_nn_classifier(tensor_x_test, binary_y_test, lstm_model_stacked)"
      ]
    },
    {
      "cell_type": "markdown",
      "metadata": {
        "id": "sTa5pPI5Bxx5"
      },
      "source": [
        "### 3.5 Capas bidireccionales\n",
        "\n",
        "Una de las desventajas de las redes recurrentes, es que leen la información de forma secuencial en el tiempo, es decir, en en orden, pero no tienen en cuenta las palabras del contexto posterior, solo las anteriores.\n",
        "\n",
        "Para ello, existen las capas bidireccionales, que permiten que el modelo tenga dos entradas, una entrada en el orden secuencial, y la otra en el orden inverso, para el caso del texto, sería como introducir el texto de derecha a izquierda.\n",
        "\n",
        "Esto se hace con el fin de utilizar las dependencias y el conexto en ambos sentidos, para asi captar ciertas características que no se obtendrían solo de forma secuencial.\n",
        "\n",
        "Se va a proceder a probar capas bidireccionales con las 3 capas descritas anteriormente."
      ]
    },
    {
      "cell_type": "markdown",
      "metadata": {
        "id": "5XKDIehp_SL5"
      },
      "source": [
        "#### 3.5.1 Capa bidireccional de capas simples\n"
      ]
    },
    {
      "cell_type": "code",
      "execution_count": null,
      "metadata": {
        "colab": {
          "base_uri": "https://localhost:8080/"
        },
        "id": "9Ume5Db286z-",
        "outputId": "aba16e1a-d88f-485b-fc3c-cefb09ba360a"
      },
      "outputs": [
        {
          "name": "stdout",
          "output_type": "stream",
          "text": [
            "Model: \"sequential_1\"\n",
            "_________________________________________________________________\n",
            " Layer (type)                Output Shape              Param #   \n",
            "=================================================================\n",
            " embedding_1 (Embedding)     (None, 512, 100)          3218100   \n",
            "                                                                 \n",
            " bidirectional (Bidirectiona  (None, 200)              40200     \n",
            " l)                                                              \n",
            "                                                                 \n",
            " dense_1 (Dense)             (None, 2)                 402       \n",
            "                                                                 \n",
            "=================================================================\n",
            "Total params: 3,258,702\n",
            "Trainable params: 3,258,702\n",
            "Non-trainable params: 0\n",
            "_________________________________________________________________\n"
          ]
        }
      ],
      "source": [
        "simple_model_bidirectional = Sequential()\n",
        "simple_model_bidirectional.add(Embedding(input_dim=vocab_size, output_dim=emb_dim, input_length=max_len))\n",
        "simple_model_bidirectional.add(Bidirectional(SimpleRNN(units=emb_dim, dropout=0.2, recurrent_dropout=0.5)))\n",
        "simple_model_bidirectional.add(Dense(classes, activation='sigmoid'))\n",
        "\n",
        "simple_model_bidirectional.compile(optimizer='rmsprop', loss='binary_crossentropy', metrics=['acc'])\n",
        "simple_model_bidirectional.summary()"
      ]
    },
    {
      "cell_type": "code",
      "execution_count": null,
      "metadata": {
        "colab": {
          "base_uri": "https://localhost:8080/"
        },
        "id": "yjZdKb86Eo5G",
        "outputId": "cbbbfefe-6089-4d34-f8d8-c8fc51a8f6c9"
      },
      "outputs": [
        {
          "name": "stdout",
          "output_type": "stream",
          "text": [
            "Epoch 1/40\n",
            "200/200 [==============================] - 101s 480ms/step - loss: 0.7433 - acc: 0.5103 - val_loss: 0.6964 - val_acc: 0.4981\n",
            "Epoch 2/40\n",
            "200/200 [==============================] - 87s 435ms/step - loss: 0.7288 - acc: 0.5095 - val_loss: 0.6997 - val_acc: 0.4794\n",
            "Epoch 3/40\n",
            "200/200 [==============================] - 88s 438ms/step - loss: 0.7132 - acc: 0.5017 - val_loss: 0.6975 - val_acc: 0.4938\n",
            "Epoch 4/40\n",
            "200/200 [==============================] - 88s 440ms/step - loss: 0.7085 - acc: 0.4998 - val_loss: 0.6962 - val_acc: 0.4794\n",
            "Epoch 5/40\n",
            "200/200 [==============================] - 87s 433ms/step - loss: 0.7024 - acc: 0.4922 - val_loss: 0.6937 - val_acc: 0.5019\n",
            "Epoch 6/40\n",
            "200/200 [==============================] - 86s 431ms/step - loss: 0.6988 - acc: 0.5048 - val_loss: 0.6930 - val_acc: 0.5150\n",
            "Epoch 7/40\n",
            "200/200 [==============================] - 86s 428ms/step - loss: 0.6975 - acc: 0.5008 - val_loss: 0.6945 - val_acc: 0.4969\n",
            "Epoch 8/40\n",
            "200/200 [==============================] - 86s 429ms/step - loss: 0.6970 - acc: 0.5113 - val_loss: 0.6957 - val_acc: 0.5119\n",
            "Epoch 9/40\n",
            "200/200 [==============================] - 86s 428ms/step - loss: 0.6965 - acc: 0.4969 - val_loss: 0.6926 - val_acc: 0.5194\n",
            "Epoch 10/40\n",
            "200/200 [==============================] - 85s 423ms/step - loss: 0.6973 - acc: 0.4955 - val_loss: 0.6987 - val_acc: 0.4831\n",
            "Epoch 11/40\n",
            "200/200 [==============================] - 85s 426ms/step - loss: 0.6960 - acc: 0.5063 - val_loss: 0.6933 - val_acc: 0.5163\n",
            "Epoch 12/40\n",
            "200/200 [==============================] - 85s 424ms/step - loss: 0.6968 - acc: 0.4959 - val_loss: 0.6929 - val_acc: 0.5125\n",
            "Epoch 13/40\n",
            "200/200 [==============================] - 85s 425ms/step - loss: 0.6981 - acc: 0.4852 - val_loss: 0.6981 - val_acc: 0.4831\n",
            "Epoch 14/40\n",
            "200/200 [==============================] - 85s 425ms/step - loss: 0.6952 - acc: 0.5047 - val_loss: 0.6977 - val_acc: 0.4831\n"
          ]
        }
      ],
      "source": [
        "history = simple_model_bidirectional.fit(tensor_x_train, tensor_y_train, epochs=epochs, batch_size=batch_size, validation_split=0.2, workers=-1, verbose=1, callbacks=[early_stopping_acc, early_stopping_loss])"
      ]
    },
    {
      "cell_type": "markdown",
      "metadata": {
        "id": "HEUqPH61V2Z5"
      },
      "source": [
        "Se puede ver que los resultados no soy muy buenos, aun así son mejores que los de obtenidos apilando las 2 capas, pero inferiores a los obtenidos con una única capa simple. Por lo que en para el caso de la capa simple parece que lo más conveniente en este caso es utilizar una única capa."
      ]
    },
    {
      "cell_type": "code",
      "execution_count": null,
      "metadata": {
        "colab": {
          "base_uri": "https://localhost:8080/"
        },
        "id": "qX960C-1EzVZ",
        "outputId": "6b67ceb4-a0e9-4f5c-c63a-e5853cf70fcf"
      },
      "outputs": [
        {
          "name": "stdout",
          "output_type": "stream",
          "text": [
            "Precision: 0.488 Recall 0.561 F1 score: 0.522 for Neuronal Network\n"
          ]
        }
      ],
      "source": [
        "evaluate_nn_classifier(tensor_x_test, binary_y_test, simple_model_bidirectional)"
      ]
    },
    {
      "cell_type": "markdown",
      "metadata": {
        "id": "omxpJYS5_cXM"
      },
      "source": [
        "#### 3.5.2 Capa bidireccional de capas GRU"
      ]
    },
    {
      "cell_type": "code",
      "execution_count": null,
      "metadata": {
        "colab": {
          "base_uri": "https://localhost:8080/"
        },
        "id": "76NuYkqI_g17",
        "outputId": "c91072fa-d654-4c97-f3ec-2931c11f7298"
      },
      "outputs": [
        {
          "name": "stdout",
          "output_type": "stream",
          "text": [
            "Model: \"sequential\"\n",
            "_________________________________________________________________\n",
            " Layer (type)                Output Shape              Param #   \n",
            "=================================================================\n",
            " embedding (Embedding)       (None, 512, 100)          3218100   \n",
            "                                                                 \n",
            " bidirectional (Bidirectiona  (None, 200)              121200    \n",
            " l)                                                              \n",
            "                                                                 \n",
            " dense (Dense)               (None, 2)                 402       \n",
            "                                                                 \n",
            "=================================================================\n",
            "Total params: 3,339,702\n",
            "Trainable params: 3,339,702\n",
            "Non-trainable params: 0\n",
            "_________________________________________________________________\n"
          ]
        }
      ],
      "source": [
        "gru_model_bidirectional = Sequential()\n",
        "gru_model_bidirectional.add(Embedding(input_dim=vocab_size, output_dim=emb_dim, input_length=max_len))\n",
        "gru_model_bidirectional.add(Bidirectional(GRU(units=emb_dim, dropout=0.2, recurrent_dropout=0.5)))\n",
        "gru_model_bidirectional.add(Dense(classes, activation='sigmoid'))\n",
        "\n",
        "gru_model_bidirectional.compile(optimizer='rmsprop', loss='binary_crossentropy', metrics=['acc'])\n",
        "gru_model_bidirectional.summary()"
      ]
    },
    {
      "cell_type": "code",
      "execution_count": null,
      "metadata": {
        "colab": {
          "base_uri": "https://localhost:8080/"
        },
        "id": "3Qw63mfh_oAG",
        "outputId": "ee550c62-238e-41e1-ffd0-94d9fb092082"
      },
      "outputs": [
        {
          "name": "stdout",
          "output_type": "stream",
          "text": [
            "Epoch 1/40\n",
            "200/200 [==============================] - 437s 2s/step - loss: 0.5058 - acc: 0.7483 - val_loss: 0.4216 - val_acc: 0.8356\n",
            "Epoch 2/40\n",
            "200/200 [==============================] - 401s 2s/step - loss: 0.2683 - acc: 0.9019 - val_loss: 0.5779 - val_acc: 0.8087\n",
            "Epoch 3/40\n",
            "200/200 [==============================] - 400s 2s/step - loss: 0.1866 - acc: 0.9341 - val_loss: 0.4393 - val_acc: 0.8537\n",
            "Epoch 4/40\n",
            "200/200 [==============================] - 398s 2s/step - loss: 0.1209 - acc: 0.9581 - val_loss: 0.3935 - val_acc: 0.8375\n",
            "Epoch 5/40\n",
            "200/200 [==============================] - 399s 2s/step - loss: 0.0843 - acc: 0.9727 - val_loss: 0.4903 - val_acc: 0.8269\n",
            "Epoch 6/40\n",
            "200/200 [==============================] - 392s 2s/step - loss: 0.0687 - acc: 0.9780 - val_loss: 0.5809 - val_acc: 0.8388\n",
            "Epoch 7/40\n",
            "200/200 [==============================] - 397s 2s/step - loss: 0.0512 - acc: 0.9847 - val_loss: 0.5838 - val_acc: 0.8587\n",
            "Epoch 8/40\n",
            "200/200 [==============================] - 405s 2s/step - loss: 0.0316 - acc: 0.9916 - val_loss: 0.5761 - val_acc: 0.8494\n",
            "Epoch 9/40\n",
            "200/200 [==============================] - 379s 2s/step - loss: 0.0297 - acc: 0.9905 - val_loss: 0.6457 - val_acc: 0.8462\n"
          ]
        }
      ],
      "source": [
        "history = gru_model_bidirectional.fit(tensor_x_train, tensor_y_train, epochs=epochs, batch_size=batch_size, validation_split=0.2, workers=-1, verbose=1, callbacks=[early_stopping_acc, early_stopping_loss])"
      ]
    },
    {
      "cell_type": "markdown",
      "metadata": {
        "id": "YZ6zvWwsZTRz"
      },
      "source": [
        "En este caso los resultados son de un 85.1% de F1, frente a un 85.8% en el caso de las dos capas apliadas, y un 85.5 en el caso de una sola capa.\n",
        "\n",
        "Los resultados no varían demasiado en ninguno de los 3 casos, aun así el mejor resultado se ha dado apilando dos capas GRU. Sin embargo, teniendo en cuenta el tiempo y número de parámetros a entrenar, el modelo de 1 capa parace ser la mejor opción en cuanto a eficiencia."
      ]
    },
    {
      "cell_type": "code",
      "execution_count": null,
      "metadata": {
        "colab": {
          "base_uri": "https://localhost:8080/"
        },
        "id": "140bQ-u-_3lh",
        "outputId": "4198d3dd-08ad-4258-962c-573584e01b77"
      },
      "outputs": [
        {
          "name": "stdout",
          "output_type": "stream",
          "text": [
            "Precision: 0.845 Recall 0.856 F1 score: 0.851 for Neuronal Network\n"
          ]
        }
      ],
      "source": [
        "evaluate_nn_classifier(tensor_x_test, binary_y_test, gru_model_bidirectional)"
      ]
    },
    {
      "cell_type": "markdown",
      "metadata": {
        "id": "HiY4MxCq_cB6"
      },
      "source": [
        "#### 3.5.3 Capa bidireccional de capas LSTM\n"
      ]
    },
    {
      "cell_type": "code",
      "execution_count": null,
      "metadata": {
        "colab": {
          "base_uri": "https://localhost:8080/"
        },
        "id": "f6B3MhnV_6J_",
        "outputId": "e3ee0464-d9cc-4abb-9d4a-eb948694c964"
      },
      "outputs": [
        {
          "name": "stdout",
          "output_type": "stream",
          "text": [
            "Model: \"sequential_1\"\n",
            "_________________________________________________________________\n",
            " Layer (type)                Output Shape              Param #   \n",
            "=================================================================\n",
            " embedding_1 (Embedding)     (None, 512, 100)          3218100   \n",
            "                                                                 \n",
            " bidirectional_1 (Bidirectio  (None, 200)              160800    \n",
            " nal)                                                            \n",
            "                                                                 \n",
            " dense_1 (Dense)             (None, 2)                 402       \n",
            "                                                                 \n",
            "=================================================================\n",
            "Total params: 3,379,302\n",
            "Trainable params: 3,379,302\n",
            "Non-trainable params: 0\n",
            "_________________________________________________________________\n"
          ]
        }
      ],
      "source": [
        "lstm_model_bidirectional = Sequential()\n",
        "lstm_model_bidirectional.add(Embedding(input_dim=vocab_size, output_dim=emb_dim, input_length=max_len))\n",
        "lstm_model_bidirectional.add(Bidirectional(LSTM(units=emb_dim, dropout=0.2, recurrent_dropout=0.5)))\n",
        "lstm_model_bidirectional.add(Dense(classes, activation='sigmoid'))\n",
        "\n",
        "lstm_model_bidirectional.compile(optimizer='rmsprop', loss='binary_crossentropy', metrics=['acc'])\n",
        "lstm_model_bidirectional.summary()"
      ]
    },
    {
      "cell_type": "code",
      "execution_count": null,
      "metadata": {
        "colab": {
          "base_uri": "https://localhost:8080/"
        },
        "id": "LUGazcYz_9-d",
        "outputId": "f514f5dd-5205-4fd5-b7af-92caf9226268"
      },
      "outputs": [
        {
          "name": "stdout",
          "output_type": "stream",
          "text": [
            "Epoch 1/40\n",
            "200/200 [==============================] - 435s 2s/step - loss: 0.4898 - acc: 0.7641 - val_loss: 0.3934 - val_acc: 0.8256\n",
            "Epoch 2/40\n",
            "200/200 [==============================] - 429s 2s/step - loss: 0.2444 - acc: 0.9117 - val_loss: 0.3437 - val_acc: 0.8537\n",
            "Epoch 3/40\n",
            "200/200 [==============================] - 428s 2s/step - loss: 0.1592 - acc: 0.9453 - val_loss: 0.3809 - val_acc: 0.8650\n",
            "Epoch 4/40\n",
            "200/200 [==============================] - 424s 2s/step - loss: 0.1056 - acc: 0.9619 - val_loss: 0.5011 - val_acc: 0.8544\n",
            "Epoch 5/40\n",
            "200/200 [==============================] - 422s 2s/step - loss: 0.0726 - acc: 0.9752 - val_loss: 0.5836 - val_acc: 0.8606\n",
            "Epoch 6/40\n",
            "200/200 [==============================] - 425s 2s/step - loss: 0.0587 - acc: 0.9827 - val_loss: 0.5222 - val_acc: 0.8487\n",
            "Epoch 7/40\n",
            "200/200 [==============================] - 424s 2s/step - loss: 0.0440 - acc: 0.9872 - val_loss: 0.5967 - val_acc: 0.8394\n"
          ]
        }
      ],
      "source": [
        "history = lstm_model_bidirectional.fit(tensor_x_train, tensor_y_train, epochs=epochs, batch_size=batch_size, validation_split=0.2, workers=-1, verbose=1, callbacks=[early_stopping_acc, early_stopping_loss])"
      ]
    },
    {
      "cell_type": "markdown",
      "metadata": {
        "id": "A5TcYZOqagBp"
      },
      "source": [
        "Se ha obtenido un F1 de 84.9% utilizando una capa bidireccional de LSTM, frente al 84.5% obtenido de apilar dos LSTM, por lo que se han obtenido mejores resultados. A pesar de esto, con una única capa LSTM se obtuvo un F1 de 86.5%, por lo que parece sigue siendo mejor opción la de utilizar una única capa."
      ]
    },
    {
      "cell_type": "code",
      "execution_count": null,
      "metadata": {
        "colab": {
          "base_uri": "https://localhost:8080/"
        },
        "id": "NltzdoUZAA_w",
        "outputId": "30171a4d-a08a-4c56-e99a-c714f7643021"
      },
      "outputs": [
        {
          "name": "stdout",
          "output_type": "stream",
          "text": [
            "Precision: 0.895 Recall 0.807 F1 score: 0.849 for Neuronal Network\n"
          ]
        }
      ],
      "source": [
        "evaluate_nn_classifier(tensor_x_test, binary_y_test, lstm_model_bidirectional)"
      ]
    },
    {
      "cell_type": "markdown",
      "metadata": {
        "id": "ajxTr-BuB00j"
      },
      "source": [
        "### 3.6 Afinado del modelo\n",
        "\n",
        "Tras obserar los resultados de los apartados anteriores. Se ha visto que el modelo con mejor F1 es una única capa de LTSM, con un F1 del 86.5%.\n",
        "\n",
        "A pesar de ello, como se observa en la evolución del modelo, todavía hay signos de sobre ajuste, pasando el loss de 0.3456 en la primera epoch, hasta 0.5929 en la segunda. Por ello, se va a trata de afinar un poco más el modelo y así evitar el sobre ajuste y mejorar los resultados.\n"
      ]
    },
    {
      "cell_type": "markdown",
      "metadata": {
        "id": "uOWkWrzzcz-B"
      },
      "source": [
        "#### 3.6.1 Anadir una capa de Dropout\n",
        "\n",
        "Debido al sobre ajuste, se va a añadir una capa de Dropout despúes de la de LSTM para ver si mejora la curva del loss, a pesar de que la capa ya tiene dropout."
      ]
    },
    {
      "cell_type": "code",
      "execution_count": null,
      "metadata": {
        "colab": {
          "base_uri": "https://localhost:8080/"
        },
        "id": "3WqWg470Nshb",
        "outputId": "bb15bbed-e90d-4cf9-89ff-1e1476818349"
      },
      "outputs": [
        {
          "name": "stdout",
          "output_type": "stream",
          "text": [
            "Model: \"sequential_2\"\n",
            "_________________________________________________________________\n",
            " Layer (type)                Output Shape              Param #   \n",
            "=================================================================\n",
            " embedding_2 (Embedding)     (None, 512, 100)          3218100   \n",
            "                                                                 \n",
            " lstm_3 (LSTM)               (None, 100)               80400     \n",
            "                                                                 \n",
            " dropout_1 (Dropout)         (None, 100)               0         \n",
            "                                                                 \n",
            " dense_2 (Dense)             (None, 2)                 202       \n",
            "                                                                 \n",
            "=================================================================\n",
            "Total params: 3,298,702\n",
            "Trainable params: 3,298,702\n",
            "Non-trainable params: 0\n",
            "_________________________________________________________________\n"
          ]
        }
      ],
      "source": [
        "lstm_model_tuning = Sequential()\n",
        "lstm_model_tuning.add(Embedding(input_dim=vocab_size, output_dim=emb_dim, input_length=max_len))\n",
        "lstm_model_tuning.add(LSTM(units=emb_dim, dropout=0.2, recurrent_dropout=0.5))\n",
        "lstm_model_tuning.add(Dropout(0.5))\n",
        "lstm_model_tuning.add(Dense(classes, activation='softmax'))\n",
        "\n",
        "lstm_model_tuning.compile(optimizer='rmsprop', loss='binary_crossentropy', metrics=['acc'])\n",
        "lstm_model_tuning.summary()"
      ]
    },
    {
      "cell_type": "code",
      "execution_count": null,
      "metadata": {
        "colab": {
          "base_uri": "https://localhost:8080/"
        },
        "id": "lW4KHbdjN6Tc",
        "outputId": "cedf4bf9-c7c8-4de3-a86e-9f25ec32271e"
      },
      "outputs": [
        {
          "name": "stdout",
          "output_type": "stream",
          "text": [
            "Epoch 1/40\n",
            "200/200 [==============================] - 227s 1s/step - loss: 0.5004 - acc: 0.7672 - val_loss: 0.3399 - val_acc: 0.8587\n",
            "Epoch 2/40\n",
            "200/200 [==============================] - 216s 1s/step - loss: 0.2571 - acc: 0.9089 - val_loss: 0.3808 - val_acc: 0.8575\n",
            "Epoch 3/40\n",
            "200/200 [==============================] - 214s 1s/step - loss: 0.1632 - acc: 0.9442 - val_loss: 0.3782 - val_acc: 0.8537\n",
            "Epoch 4/40\n",
            "200/200 [==============================] - 215s 1s/step - loss: 0.1199 - acc: 0.9595 - val_loss: 0.4060 - val_acc: 0.8519\n",
            "Epoch 5/40\n",
            "200/200 [==============================] - 215s 1s/step - loss: 0.0793 - acc: 0.9752 - val_loss: 0.5464 - val_acc: 0.8531\n",
            "Epoch 6/40\n",
            "200/200 [==============================] - 214s 1s/step - loss: 0.0598 - acc: 0.9809 - val_loss: 0.6259 - val_acc: 0.8444\n"
          ]
        }
      ],
      "source": [
        "history = lstm_model_tuning.fit(tensor_x_train, tensor_y_train, epochs=epochs, batch_size=batch_size, validation_split=0.2, workers=-1, verbose=1, callbacks=[early_stopping_acc, early_stopping_loss])"
      ]
    },
    {
      "cell_type": "code",
      "execution_count": null,
      "metadata": {
        "colab": {
          "base_uri": "https://localhost:8080/",
          "height": 828
        },
        "id": "ANuEm-1EOADt",
        "outputId": "74c7c897-6c78-4681-d609-bdc22a8d9b7e"
      },
      "outputs": [
        {
          "name": "stdout",
          "output_type": "stream",
          "text": [
            "dict_keys(['loss', 'acc', 'val_loss', 'val_acc'])\n"
          ]
        },
        {
          "data": {
            "image/png": "[encoded data removed]",
            "text/plain": [
              "<Figure size 432x432 with 1 Axes>"
            ]
          },
          "metadata": {},
          "output_type": "display_data"
        },
        {
          "data": {
            "image/png": "[encoded data removed]",
            "text/plain": [
              "<Figure size 432x432 with 1 Axes>"
            ]
          },
          "metadata": {},
          "output_type": "display_data"
        }
      ],
      "source": [
        "plot_loss_accuracy_training(history)"
      ]
    },
    {
      "cell_type": "markdown",
      "metadata": {
        "id": "x6hNDFJrAVzP"
      },
      "source": [
        "Añadiendo la capa de Dropout se ha obtenido un F1 del 86.1%, ligeramente inferior a la obtenida sin la capa, pero si que se observa que hasta la epoch 3 el loss se mantenía más o menos estable."
      ]
    },
    {
      "cell_type": "code",
      "execution_count": null,
      "metadata": {
        "colab": {
          "base_uri": "https://localhost:8080/"
        },
        "id": "7sZK02LZOFOp",
        "outputId": "c6ebcbcb-ca0f-44dd-ed21-81b2b0237610"
      },
      "outputs": [
        {
          "name": "stdout",
          "output_type": "stream",
          "text": [
            "Precision: 0.849 Recall 0.874 F1 score: 0.861 for Neuronal Network\n"
          ]
        }
      ],
      "source": [
        "evaluate_nn_classifier(tensor_x_test, binary_y_test, lstm_model_tuning)"
      ]
    },
    {
      "cell_type": "markdown",
      "metadata": {
        "id": "X1R78cV6ddUf"
      },
      "source": [
        "#### 3.6.2 Anadir una capa de Densa\n",
        "\n",
        "Ya que el modelo que mejor funciona solo tiene una capa recurrente, puede ser interesante probar que pasa si se añaden más capas densas al modelo. En este caso se ha añadido una capa de 50 neuronas (la mitad de las neuronas de la capa LSTM) y su correspondiente capa de Dropout."
      ]
    },
    {
      "cell_type": "code",
      "execution_count": null,
      "metadata": {
        "colab": {
          "base_uri": "https://localhost:8080/"
        },
        "id": "5fH79ag_a9s6",
        "outputId": "475774bd-61c3-4015-d7de-bb814d25c0e0"
      },
      "outputs": [
        {
          "name": "stdout",
          "output_type": "stream",
          "text": [
            "Model: \"sequential\"\n",
            "_________________________________________________________________\n",
            " Layer (type)                Output Shape              Param #   \n",
            "=================================================================\n",
            " embedding (Embedding)       (None, 512, 100)          3218100   \n",
            "                                                                 \n",
            " lstm (LSTM)                 (None, 100)               80400     \n",
            "                                                                 \n",
            " dropout (Dropout)           (None, 100)               0         \n",
            "                                                                 \n",
            " dense (Dense)               (None, 50)                5050      \n",
            "                                                                 \n",
            " dropout_1 (Dropout)         (None, 50)                0         \n",
            "                                                                 \n",
            " dense_1 (Dense)             (None, 2)                 102       \n",
            "                                                                 \n",
            "=================================================================\n",
            "Total params: 3,303,652\n",
            "Trainable params: 3,303,652\n",
            "Non-trainable params: 0\n",
            "_________________________________________________________________\n"
          ]
        }
      ],
      "source": [
        "lstm_model_tuning = Sequential()\n",
        "lstm_model_tuning.add(Embedding(input_dim=vocab_size, output_dim=emb_dim, input_length=max_len))\n",
        "lstm_model_tuning.add(LSTM(units=emb_dim, dropout=0.2, recurrent_dropout=0.5))\n",
        "lstm_model_tuning.add(Dropout(0.5))\n",
        "lstm_model_tuning.add(Dense(units=50))\n",
        "lstm_model_tuning.add(Dropout(0.5))\n",
        "lstm_model_tuning.add(Dense(classes, activation='softmax'))\n",
        "\n",
        "lstm_model_tuning.compile(optimizer='rmsprop', loss='binary_crossentropy', metrics=['acc'])\n",
        "lstm_model_tuning.summary()"
      ]
    },
    {
      "cell_type": "code",
      "execution_count": null,
      "metadata": {
        "colab": {
          "base_uri": "https://localhost:8080/"
        },
        "id": "cVa_BGIRbIW2",
        "outputId": "096c750f-c784-4806-9839-f5da08620ad8"
      },
      "outputs": [
        {
          "name": "stdout",
          "output_type": "stream",
          "text": [
            "Epoch 1/40\n",
            "200/200 [==============================] - 203s 983ms/step - loss: 0.4836 - acc: 0.7723 - val_loss: 0.3496 - val_acc: 0.8450\n",
            "Epoch 2/40\n",
            "200/200 [==============================] - 196s 978ms/step - loss: 0.2539 - acc: 0.9148 - val_loss: 0.3710 - val_acc: 0.8381\n",
            "Epoch 3/40\n",
            "200/200 [==============================] - 195s 976ms/step - loss: 0.1626 - acc: 0.9473 - val_loss: 0.4952 - val_acc: 0.8600\n",
            "Epoch 4/40\n",
            "200/200 [==============================] - 207s 1s/step - loss: 0.1084 - acc: 0.9641 - val_loss: 0.5797 - val_acc: 0.8462\n",
            "Epoch 5/40\n",
            "200/200 [==============================] - 195s 974ms/step - loss: 0.0744 - acc: 0.9772 - val_loss: 0.6569 - val_acc: 0.8562\n",
            "Epoch 6/40\n",
            "200/200 [==============================] - 196s 978ms/step - loss: 0.0620 - acc: 0.9853 - val_loss: 0.8826 - val_acc: 0.8363\n"
          ]
        }
      ],
      "source": [
        "history = lstm_model_tuning.fit(tensor_x_train, tensor_y_train, epochs=epochs, batch_size=batch_size, validation_split=0.2, workers=-1, verbose=1, callbacks=[early_stopping_acc, early_stopping_loss])"
      ]
    },
    {
      "cell_type": "markdown",
      "metadata": {
        "id": "1TlUXgG-kCUS"
      },
      "source": [
        "Se ha obtenido un F1 del 86.4%, mejorando así el caso anterior sin capa densa, pero aún sin superar el modelo de una capa. El número de parámetros no varía a penas, salvo que se añaden 5050 parámetros más de la capa densa.\n",
        "\n",
        "Esta opción puede tener sentido utilizarlo ya que da resultados parecidos sin añadir prácticamente coste."
      ]
    },
    {
      "cell_type": "code",
      "execution_count": null,
      "metadata": {
        "colab": {
          "base_uri": "https://localhost:8080/"
        },
        "id": "ZtVuygUdbLHQ",
        "outputId": "3ea83cd7-98e0-43dc-b184-b1aefc434b62"
      },
      "outputs": [
        {
          "name": "stdout",
          "output_type": "stream",
          "text": [
            "Precision: 0.819 Recall 0.915 F1 score: 0.864 for Neuronal Network\n"
          ]
        }
      ],
      "source": [
        "evaluate_nn_classifier(tensor_x_test, binary_y_test, lstm_model_tuning)"
      ]
    },
    {
      "cell_type": "markdown",
      "metadata": {
        "id": "vxV3WfOPdiUt"
      },
      "source": [
        "#### 3.6.3 Cambio de la función de coste\n",
        "\n",
        "Otra opción posible es cambiar la función de coste por la de Mean Squared Error, para ver si así podemos tratar de evitar que aumente tan rápidamente el loss."
      ]
    },
    {
      "cell_type": "code",
      "execution_count": null,
      "metadata": {
        "colab": {
          "base_uri": "https://localhost:8080/"
        },
        "id": "vV-O6bu3eCwv",
        "outputId": "7db7795c-52dc-4eb4-c255-852242f3541a"
      },
      "outputs": [
        {
          "name": "stdout",
          "output_type": "stream",
          "text": [
            "Model: \"sequential_1\"\n",
            "_________________________________________________________________\n",
            " Layer (type)                Output Shape              Param #   \n",
            "=================================================================\n",
            " embedding_1 (Embedding)     (None, 512, 100)          3218100   \n",
            "                                                                 \n",
            " lstm_1 (LSTM)               (None, 100)               80400     \n",
            "                                                                 \n",
            " dense_2 (Dense)             (None, 2)                 202       \n",
            "                                                                 \n",
            "=================================================================\n",
            "Total params: 3,298,702\n",
            "Trainable params: 3,298,702\n",
            "Non-trainable params: 0\n",
            "_________________________________________________________________\n"
          ]
        }
      ],
      "source": [
        "lstm_model_tuning = Sequential()\n",
        "lstm_model_tuning.add(Embedding(input_dim=vocab_size, output_dim=emb_dim, input_length=max_len))\n",
        "lstm_model_tuning.add(LSTM(units=emb_dim, dropout=0.2, recurrent_dropout=0.5))\n",
        "lstm_model_tuning.add(Dense(classes, activation='softmax'))\n",
        "\n",
        "lstm_model_tuning.compile(optimizer='rmsprop', loss='mean_squared_error', metrics=['acc'])\n",
        "lstm_model_tuning.summary()"
      ]
    },
    {
      "cell_type": "code",
      "execution_count": null,
      "metadata": {
        "colab": {
          "base_uri": "https://localhost:8080/"
        },
        "id": "zZr1FCsVeIZ2",
        "outputId": "02ecc0ed-4f59-446b-de29-b159d135e0b3"
      },
      "outputs": [
        {
          "name": "stdout",
          "output_type": "stream",
          "text": [
            "Epoch 1/40\n",
            "200/200 [==============================] - 203s 1s/step - loss: 0.1593 - acc: 0.7767 - val_loss: 0.1054 - val_acc: 0.8556\n",
            "Epoch 2/40\n",
            "200/200 [==============================] - 198s 993ms/step - loss: 0.0689 - acc: 0.9148 - val_loss: 0.1047 - val_acc: 0.8662\n",
            "Epoch 3/40\n",
            "200/200 [==============================] - 194s 970ms/step - loss: 0.0409 - acc: 0.9481 - val_loss: 0.1208 - val_acc: 0.8375\n",
            "Epoch 4/40\n",
            "200/200 [==============================] - 195s 973ms/step - loss: 0.0266 - acc: 0.9661 - val_loss: 0.1157 - val_acc: 0.8469\n",
            "Epoch 5/40\n",
            "200/200 [==============================] - 195s 973ms/step - loss: 0.0194 - acc: 0.9770 - val_loss: 0.1200 - val_acc: 0.8413\n",
            "Epoch 6/40\n",
            "200/200 [==============================] - 199s 997ms/step - loss: 0.0146 - acc: 0.9825 - val_loss: 0.1336 - val_acc: 0.8375\n",
            "Epoch 7/40\n",
            "200/200 [==============================] - 195s 976ms/step - loss: 0.0081 - acc: 0.9906 - val_loss: 0.1278 - val_acc: 0.8531\n"
          ]
        }
      ],
      "source": [
        "history = lstm_model_tuning.fit(tensor_x_train, tensor_y_train, epochs=epochs, batch_size=batch_size, validation_split=0.2, workers=-1, verbose=1, callbacks=[early_stopping_acc, early_stopping_loss])"
      ]
    },
    {
      "cell_type": "markdown",
      "metadata": {
        "id": "0oaD6UOJo8pv"
      },
      "source": [
        "Como se puede ver, los resultados en cuanto a F1 no han mejorado significativamente, sin embargo si que se ha reducino notablemente la loss del modelo, que a penas a aumentado durante el entrenamiento. En el caso base se obtuvo una loss final del 0.5929 frente a 0.1278 obtenida en este caso. Por lo que parece que esta función de coste reduce significativamente el loss."
      ]
    },
    {
      "cell_type": "code",
      "execution_count": null,
      "metadata": {
        "colab": {
          "base_uri": "https://localhost:8080/"
        },
        "id": "3CgPBvVveJfE",
        "outputId": "30894af1-be00-4569-b867-8afff59b9464"
      },
      "outputs": [
        {
          "name": "stdout",
          "output_type": "stream",
          "text": [
            "Precision: 0.853 Recall 0.873 F1 score: 0.863 for Neuronal Network\n"
          ]
        }
      ],
      "source": [
        "evaluate_nn_classifier(tensor_x_test, binary_y_test, lstm_model_tuning)"
      ]
    },
    {
      "cell_type": "markdown",
      "metadata": {
        "id": "4Ks6oYvdhVU2"
      },
      "source": [
        "#### 3.6.4 Dos capas Bidireccionales apiladas\n",
        "\n",
        "Por último se va a probar el funcionamiento de dos capas bidireccionales de LSTM apiladas, el modelo más complejo hasta ahora, para ver si al combinar estas dos opciones, se mejoran los resultadod de aplicarlas por separado."
      ]
    },
    {
      "cell_type": "code",
      "execution_count": 13,
      "metadata": {
        "colab": {
          "base_uri": "https://localhost:8080/"
        },
        "id": "RhIyQ-AcgwaX",
        "outputId": "301f33fc-4988-4134-fc8a-178fb41ab6c9"
      },
      "outputs": [
        {
          "output_type": "stream",
          "name": "stdout",
          "text": [
            "Model: \"sequential\"\n",
            "_________________________________________________________________\n",
            " Layer (type)                Output Shape              Param #   \n",
            "=================================================================\n",
            " embedding (Embedding)       (None, 512, 100)          3218100   \n",
            "                                                                 \n",
            " bidirectional (Bidirectiona  (None, 512, 200)         160800    \n",
            " l)                                                              \n",
            "                                                                 \n",
            " bidirectional_1 (Bidirectio  (None, 200)              240800    \n",
            " nal)                                                            \n",
            "                                                                 \n",
            " dense (Dense)               (None, 2)                 402       \n",
            "                                                                 \n",
            "=================================================================\n",
            "Total params: 3,620,102\n",
            "Trainable params: 3,620,102\n",
            "Non-trainable params: 0\n",
            "_________________________________________________________________\n"
          ]
        }
      ],
      "source": [
        "lstm_model_tuning = Sequential()\n",
        "lstm_model_tuning.add(Embedding(input_dim=vocab_size, output_dim=emb_dim, input_length=max_len))\n",
        "lstm_model_tuning.add(Bidirectional(LSTM(units=emb_dim, dropout=0.2, recurrent_dropout=0.5, return_sequences=True)))\n",
        "lstm_model_tuning.add(Bidirectional(LSTM(units=emb_dim, dropout=0.2, recurrent_dropout=0.5)))\n",
        "lstm_model_tuning.add(Dense(classes, activation='softmax'))\n",
        "\n",
        "lstm_model_tuning.compile(optimizer='adam', loss='mean_squared_error', metrics=['acc'])\n",
        "lstm_model_tuning.summary()"
      ]
    },
    {
      "cell_type": "code",
      "execution_count": 14,
      "metadata": {
        "colab": {
          "base_uri": "https://localhost:8080/"
        },
        "id": "fAFVuR-Ug-Oq",
        "outputId": "09af58cf-d02c-4d57-f6e4-8f22f2a8e0dc"
      },
      "outputs": [
        {
          "output_type": "stream",
          "name": "stdout",
          "text": [
            "Epoch 1/40\n",
            "200/200 [==============================] - 921s 5s/step - loss: 0.1505 - acc: 0.7695 - val_loss: 0.1200 - val_acc: 0.8331\n",
            "Epoch 2/40\n",
            "200/200 [==============================] - 908s 5s/step - loss: 0.0438 - acc: 0.9441 - val_loss: 0.1310 - val_acc: 0.8131\n",
            "Epoch 3/40\n",
            "200/200 [==============================] - 905s 5s/step - loss: 0.0271 - acc: 0.9666 - val_loss: 0.1336 - val_acc: 0.8356\n",
            "Epoch 4/40\n",
            "200/200 [==============================] - 932s 5s/step - loss: 0.0145 - acc: 0.9834 - val_loss: 0.1339 - val_acc: 0.8456\n",
            "Epoch 5/40\n",
            "200/200 [==============================] - 943s 5s/step - loss: 0.0111 - acc: 0.9872 - val_loss: 0.1577 - val_acc: 0.8062\n",
            "Epoch 6/40\n",
            "200/200 [==============================] - 943s 5s/step - loss: 0.0089 - acc: 0.9898 - val_loss: 0.1459 - val_acc: 0.8263\n"
          ]
        }
      ],
      "source": [
        "history = lstm_model_tuning.fit(tensor_x_train, tensor_y_train, epochs=epochs, batch_size=batch_size, validation_split=0.2, workers=-1, verbose=1, callbacks=[early_stopping_acc, early_stopping_loss])"
      ]
    },
    {
      "cell_type": "markdown",
      "source": [
        "En esta ocasión no vemos tampoco mejores resultados que en las anteriores pruebas, si no que se ha reducido un poco la F1, un 0.6% para el caso de la capa Bidireccional simple, y un 0.2% para el caso de las apiladas. \n",
        "\n",
        "En cualquier caso este modelo no merecen la pena debido al largo tiempo de enterenamiento que supone y la cantidad de parámetros que tiene en comparación con modelos más simples y mejores resultados."
      ],
      "metadata": {
        "id": "4wm9VWh7xlRX"
      }
    },
    {
      "cell_type": "code",
      "execution_count": 15,
      "metadata": {
        "id": "QB8AUZplg-3B",
        "colab": {
          "base_uri": "https://localhost:8080/"
        },
        "outputId": "5e69ad64-66a4-40e0-94cb-810e78b55336"
      },
      "outputs": [
        {
          "output_type": "stream",
          "name": "stdout",
          "text": [
            "Precision: 0.765 Recall 0.937 F1 score: 0.843 for Neuronal Network\n"
          ]
        }
      ],
      "source": [
        "evaluate_nn_classifier(tensor_x_test, binary_y_test, lstm_model_tuning)"
      ]
    },
    {
      "cell_type": "markdown",
      "metadata": {
        "id": "dZdriAIYB8bb"
      },
      "source": [
        "## 4 Conclusiones\n",
        "\n",
        "Como conclusión del trabajo, se puede decir que las RNN funcionan muy bien en cuanto a texto se refiere, ya que con una única capa recurrente se consiguien resultados muy bueno.\n",
        "\n",
        "También es sorprendente que modelos más complejos como las capas apiladas o bidireccionales, o incluso añadir capas densas extra, no hagan mejorar el modelo, si no más bien empeorarlo ligeramente. Lo que indica que no siempre un modelo más complejo va a funcionar mejor en según que casos.\n",
        "\n",
        "Sería interesante haber probado más aspectos, como las funciones de activación y el número de neronas, pero creo que era más interesante probar a que nivel mejoran o empeoran las distintas capas los resultados. En este caso la capa con mayor número de parámetros (LSTM) ha resultado ser la mejor opción.\n",
        "\n",
        "Si nos basamos en los resultados obtenidos en la práctica anterior (CNN) se puede ver unos resultados similares, lo que resulta sorprendente ya que en teoría las RNN funcionan mejor a nivel de texto, pero los resultados tan similares pueden ser debido al conjunto de entranemiento que se está utilizando.\n",
        "\n"
      ]
    }
  ],
  "metadata": {
    "colab": {
      "collapsed_sections": [],
      "name": "Practica3_VillaplanaMorenoAitana.ipynb",
      "toc_visible": true,
      "provenance": []
    },
    "kernelspec": {
      "display_name": "Python 3",
      "name": "python3"
    },
    "language_info": {
      "name": "python"
    }
  },
  "nbformat": 4,
  "nbformat_minor": 0
}
